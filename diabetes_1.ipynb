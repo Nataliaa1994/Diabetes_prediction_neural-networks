{
  "nbformat": 4,
  "nbformat_minor": 0,
  "metadata": {
    "colab": {
      "name": "diabetes_1.ipynb",
      "provenance": [],
      "collapsed_sections": [],
      "include_colab_link": true
    },
    "kernelspec": {
      "name": "python3",
      "display_name": "Python 3"
    }
  },
  "cells": [
    {
      "cell_type": "markdown",
      "metadata": {
        "id": "view-in-github",
        "colab_type": "text"
      },
      "source": [
        "<a href=\"https://colab.research.google.com/github/Nataliaa1994/Diabetes_prediction_neural-networks/blob/master/diabetes_1.ipynb\" target=\"_parent\"><img src=\"https://colab.research.google.com/assets/colab-badge.svg\" alt=\"Open In Colab\"/></a>"
      ]
    },
    {
      "cell_type": "code",
      "metadata": {
        "id": "LJiKlmyDl5I5",
        "colab_type": "code",
        "colab": {
          "base_uri": "https://localhost:8080/",
          "height": 73
        },
        "outputId": "736b97e7-a06f-4d27-c838-d588e0bb0b31"
      },
      "source": [
        "import numpy as np\n",
        "import pandas as pd\n",
        "import matplotlib.pyplot as plt\n",
        "import seaborn as sns\n",
        "\n",
        "import tensorflow as tf\n",
        "from tensorflow.keras.models import Sequential\n",
        "from tensorflow.keras.layers import Flatten, Dense\n",
        "\n",
        "np.set_printoptions(precision=12, suppress=True, linewidth=150)\n",
        "pd.options.display.float_format = '{:.6f}'.format\n",
        "sns.set()\n",
        "tf.__version__"
      ],
      "execution_count": 1,
      "outputs": [
        {
          "output_type": "stream",
          "text": [
            "/usr/local/lib/python3.6/dist-packages/statsmodels/tools/_testing.py:19: FutureWarning: pandas.util.testing is deprecated. Use the functions in the public API at pandas.testing instead.\n",
            "  import pandas.util.testing as tm\n"
          ],
          "name": "stderr"
        },
        {
          "output_type": "execute_result",
          "data": {
            "application/vnd.google.colaboratory.intrinsic+json": {
              "type": "string"
            },
            "text/plain": [
              "'2.3.0'"
            ]
          },
          "metadata": {
            "tags": []
          },
          "execution_count": 1
        }
      ]
    },
    {
      "cell_type": "code",
      "metadata": {
        "id": "LawMSotKlIZi",
        "colab_type": "code",
        "colab": {}
      },
      "source": [
        "from google.colab import files"
      ],
      "execution_count": 2,
      "outputs": []
    },
    {
      "cell_type": "code",
      "metadata": {
        "id": "M_XtbKJglKH4",
        "colab_type": "code",
        "colab": {
          "resources": {
            "http://localhost:8080/nbextensions/google.colab/files.js": {
              "data": "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",
              "ok": true,
              "headers": [
                [
                  "content-type",
                  "application/javascript"
                ]
              ],
              "status": 200,
              "status_text": "OK"
            }
          },
          "base_uri": "https://localhost:8080/",
          "height": 73
        },
        "outputId": "f63f9b25-1043-47ea-d3c5-c893edfd7947"
      },
      "source": [
        "uploaded=files.upload()"
      ],
      "execution_count": 3,
      "outputs": [
        {
          "output_type": "display_data",
          "data": {
            "text/html": [
              "\n",
              "     <input type=\"file\" id=\"files-8d3e3c27-df4e-4a74-bc20-842085704f4f\" name=\"files[]\" multiple disabled\n",
              "        style=\"border:none\" />\n",
              "     <output id=\"result-8d3e3c27-df4e-4a74-bc20-842085704f4f\">\n",
              "      Upload widget is only available when the cell has been executed in the\n",
              "      current browser session. Please rerun this cell to enable.\n",
              "      </output>\n",
              "      <script src=\"/nbextensions/google.colab/files.js\"></script> "
            ],
            "text/plain": [
              "<IPython.core.display.HTML object>"
            ]
          },
          "metadata": {
            "tags": []
          }
        },
        {
          "output_type": "stream",
          "text": [
            "Saving diabetes.csv to diabetes.csv\n"
          ],
          "name": "stdout"
        }
      ]
    },
    {
      "cell_type": "code",
      "metadata": {
        "id": "99KwaHqulOn_",
        "colab_type": "code",
        "colab": {}
      },
      "source": [
        "import io\n",
        "raw_data = pd.read_csv(io.StringIO(uploaded['diabetes.csv'].decode('utf-8')))\n",
        "raw_data = pd.read_csv('diabetes.csv')"
      ],
      "execution_count": 13,
      "outputs": []
    },
    {
      "cell_type": "markdown",
      "metadata": {
        "id": "ftmCOM0vUXhE",
        "colab_type": "text"
      },
      "source": [
        "**Inspect Data**"
      ]
    },
    {
      "cell_type": "code",
      "metadata": {
        "id": "iQrdaIhllVws",
        "colab_type": "code",
        "colab": {
          "base_uri": "https://localhost:8080/",
          "height": 204
        },
        "outputId": "811e07db-5234-4231-f6a6-031e3fa5b782"
      },
      "source": [
        "raw_data.head()"
      ],
      "execution_count": null,
      "outputs": [
        {
          "output_type": "execute_result",
          "data": {
            "text/html": [
              "<div>\n",
              "<style scoped>\n",
              "    .dataframe tbody tr th:only-of-type {\n",
              "        vertical-align: middle;\n",
              "    }\n",
              "\n",
              "    .dataframe tbody tr th {\n",
              "        vertical-align: top;\n",
              "    }\n",
              "\n",
              "    .dataframe thead th {\n",
              "        text-align: right;\n",
              "    }\n",
              "</style>\n",
              "<table border=\"1\" class=\"dataframe\">\n",
              "  <thead>\n",
              "    <tr style=\"text-align: right;\">\n",
              "      <th></th>\n",
              "      <th>Pregnancies</th>\n",
              "      <th>Glucose</th>\n",
              "      <th>BloodPressure</th>\n",
              "      <th>SkinThickness</th>\n",
              "      <th>Insulin</th>\n",
              "      <th>BMI</th>\n",
              "      <th>DiabetesPedigreeFunction</th>\n",
              "      <th>Age</th>\n",
              "      <th>Outcome</th>\n",
              "    </tr>\n",
              "  </thead>\n",
              "  <tbody>\n",
              "    <tr>\n",
              "      <th>0</th>\n",
              "      <td>6</td>\n",
              "      <td>148</td>\n",
              "      <td>72</td>\n",
              "      <td>35</td>\n",
              "      <td>0</td>\n",
              "      <td>33.600000</td>\n",
              "      <td>0.627000</td>\n",
              "      <td>50</td>\n",
              "      <td>1</td>\n",
              "    </tr>\n",
              "    <tr>\n",
              "      <th>1</th>\n",
              "      <td>1</td>\n",
              "      <td>85</td>\n",
              "      <td>66</td>\n",
              "      <td>29</td>\n",
              "      <td>0</td>\n",
              "      <td>26.600000</td>\n",
              "      <td>0.351000</td>\n",
              "      <td>31</td>\n",
              "      <td>0</td>\n",
              "    </tr>\n",
              "    <tr>\n",
              "      <th>2</th>\n",
              "      <td>8</td>\n",
              "      <td>183</td>\n",
              "      <td>64</td>\n",
              "      <td>0</td>\n",
              "      <td>0</td>\n",
              "      <td>23.300000</td>\n",
              "      <td>0.672000</td>\n",
              "      <td>32</td>\n",
              "      <td>1</td>\n",
              "    </tr>\n",
              "    <tr>\n",
              "      <th>3</th>\n",
              "      <td>1</td>\n",
              "      <td>89</td>\n",
              "      <td>66</td>\n",
              "      <td>23</td>\n",
              "      <td>94</td>\n",
              "      <td>28.100000</td>\n",
              "      <td>0.167000</td>\n",
              "      <td>21</td>\n",
              "      <td>0</td>\n",
              "    </tr>\n",
              "    <tr>\n",
              "      <th>4</th>\n",
              "      <td>0</td>\n",
              "      <td>137</td>\n",
              "      <td>40</td>\n",
              "      <td>35</td>\n",
              "      <td>168</td>\n",
              "      <td>43.100000</td>\n",
              "      <td>2.288000</td>\n",
              "      <td>33</td>\n",
              "      <td>1</td>\n",
              "    </tr>\n",
              "  </tbody>\n",
              "</table>\n",
              "</div>"
            ],
            "text/plain": [
              "   Pregnancies  Glucose  BloodPressure  ...  DiabetesPedigreeFunction  Age  Outcome\n",
              "0            6      148             72  ...                  0.627000   50        1\n",
              "1            1       85             66  ...                  0.351000   31        0\n",
              "2            8      183             64  ...                  0.672000   32        1\n",
              "3            1       89             66  ...                  0.167000   21        0\n",
              "4            0      137             40  ...                  2.288000   33        1\n",
              "\n",
              "[5 rows x 9 columns]"
            ]
          },
          "metadata": {
            "tags": []
          },
          "execution_count": 5
        }
      ]
    },
    {
      "cell_type": "code",
      "metadata": {
        "id": "Y8xwsS87lYMZ",
        "colab_type": "code",
        "colab": {
          "base_uri": "https://localhost:8080/",
          "height": 289
        },
        "outputId": "a59c5372-1fd6-4c6a-a780-57f25d7d78dc"
      },
      "source": [
        "raw_data.info()"
      ],
      "execution_count": null,
      "outputs": [
        {
          "output_type": "stream",
          "text": [
            "<class 'pandas.core.frame.DataFrame'>\n",
            "RangeIndex: 768 entries, 0 to 767\n",
            "Data columns (total 9 columns):\n",
            " #   Column                    Non-Null Count  Dtype  \n",
            "---  ------                    --------------  -----  \n",
            " 0   Pregnancies               768 non-null    int64  \n",
            " 1   Glucose                   768 non-null    int64  \n",
            " 2   BloodPressure             768 non-null    int64  \n",
            " 3   SkinThickness             768 non-null    int64  \n",
            " 4   Insulin                   768 non-null    int64  \n",
            " 5   BMI                       768 non-null    float64\n",
            " 6   DiabetesPedigreeFunction  768 non-null    float64\n",
            " 7   Age                       768 non-null    int64  \n",
            " 8   Outcome                   768 non-null    int64  \n",
            "dtypes: float64(2), int64(7)\n",
            "memory usage: 54.1 KB\n"
          ],
          "name": "stdout"
        }
      ]
    },
    {
      "cell_type": "code",
      "metadata": {
        "id": "tMn3NumjlfK7",
        "colab_type": "code",
        "colab": {
          "base_uri": "https://localhost:8080/",
          "height": 328
        },
        "outputId": "ef38f7be-0fa5-4a3d-cca9-765e9b977cc2"
      },
      "source": [
        "raw_data.describe().T"
      ],
      "execution_count": null,
      "outputs": [
        {
          "output_type": "execute_result",
          "data": {
            "text/html": [
              "<div>\n",
              "<style scoped>\n",
              "    .dataframe tbody tr th:only-of-type {\n",
              "        vertical-align: middle;\n",
              "    }\n",
              "\n",
              "    .dataframe tbody tr th {\n",
              "        vertical-align: top;\n",
              "    }\n",
              "\n",
              "    .dataframe thead th {\n",
              "        text-align: right;\n",
              "    }\n",
              "</style>\n",
              "<table border=\"1\" class=\"dataframe\">\n",
              "  <thead>\n",
              "    <tr style=\"text-align: right;\">\n",
              "      <th></th>\n",
              "      <th>count</th>\n",
              "      <th>mean</th>\n",
              "      <th>std</th>\n",
              "      <th>min</th>\n",
              "      <th>25%</th>\n",
              "      <th>50%</th>\n",
              "      <th>75%</th>\n",
              "      <th>max</th>\n",
              "    </tr>\n",
              "  </thead>\n",
              "  <tbody>\n",
              "    <tr>\n",
              "      <th>Pregnancies</th>\n",
              "      <td>768.000000</td>\n",
              "      <td>3.845052</td>\n",
              "      <td>3.369578</td>\n",
              "      <td>0.000000</td>\n",
              "      <td>1.000000</td>\n",
              "      <td>3.000000</td>\n",
              "      <td>6.000000</td>\n",
              "      <td>17.000000</td>\n",
              "    </tr>\n",
              "    <tr>\n",
              "      <th>Glucose</th>\n",
              "      <td>768.000000</td>\n",
              "      <td>120.894531</td>\n",
              "      <td>31.972618</td>\n",
              "      <td>0.000000</td>\n",
              "      <td>99.000000</td>\n",
              "      <td>117.000000</td>\n",
              "      <td>140.250000</td>\n",
              "      <td>199.000000</td>\n",
              "    </tr>\n",
              "    <tr>\n",
              "      <th>BloodPressure</th>\n",
              "      <td>768.000000</td>\n",
              "      <td>69.105469</td>\n",
              "      <td>19.355807</td>\n",
              "      <td>0.000000</td>\n",
              "      <td>62.000000</td>\n",
              "      <td>72.000000</td>\n",
              "      <td>80.000000</td>\n",
              "      <td>122.000000</td>\n",
              "    </tr>\n",
              "    <tr>\n",
              "      <th>SkinThickness</th>\n",
              "      <td>768.000000</td>\n",
              "      <td>20.536458</td>\n",
              "      <td>15.952218</td>\n",
              "      <td>0.000000</td>\n",
              "      <td>0.000000</td>\n",
              "      <td>23.000000</td>\n",
              "      <td>32.000000</td>\n",
              "      <td>99.000000</td>\n",
              "    </tr>\n",
              "    <tr>\n",
              "      <th>Insulin</th>\n",
              "      <td>768.000000</td>\n",
              "      <td>79.799479</td>\n",
              "      <td>115.244002</td>\n",
              "      <td>0.000000</td>\n",
              "      <td>0.000000</td>\n",
              "      <td>30.500000</td>\n",
              "      <td>127.250000</td>\n",
              "      <td>846.000000</td>\n",
              "    </tr>\n",
              "    <tr>\n",
              "      <th>BMI</th>\n",
              "      <td>768.000000</td>\n",
              "      <td>31.992578</td>\n",
              "      <td>7.884160</td>\n",
              "      <td>0.000000</td>\n",
              "      <td>27.300000</td>\n",
              "      <td>32.000000</td>\n",
              "      <td>36.600000</td>\n",
              "      <td>67.100000</td>\n",
              "    </tr>\n",
              "    <tr>\n",
              "      <th>DiabetesPedigreeFunction</th>\n",
              "      <td>768.000000</td>\n",
              "      <td>0.471876</td>\n",
              "      <td>0.331329</td>\n",
              "      <td>0.078000</td>\n",
              "      <td>0.243750</td>\n",
              "      <td>0.372500</td>\n",
              "      <td>0.626250</td>\n",
              "      <td>2.420000</td>\n",
              "    </tr>\n",
              "    <tr>\n",
              "      <th>Age</th>\n",
              "      <td>768.000000</td>\n",
              "      <td>33.240885</td>\n",
              "      <td>11.760232</td>\n",
              "      <td>21.000000</td>\n",
              "      <td>24.000000</td>\n",
              "      <td>29.000000</td>\n",
              "      <td>41.000000</td>\n",
              "      <td>81.000000</td>\n",
              "    </tr>\n",
              "    <tr>\n",
              "      <th>Outcome</th>\n",
              "      <td>768.000000</td>\n",
              "      <td>0.348958</td>\n",
              "      <td>0.476951</td>\n",
              "      <td>0.000000</td>\n",
              "      <td>0.000000</td>\n",
              "      <td>0.000000</td>\n",
              "      <td>1.000000</td>\n",
              "      <td>1.000000</td>\n",
              "    </tr>\n",
              "  </tbody>\n",
              "</table>\n",
              "</div>"
            ],
            "text/plain": [
              "                              count       mean  ...        75%        max\n",
              "Pregnancies              768.000000   3.845052  ...   6.000000  17.000000\n",
              "Glucose                  768.000000 120.894531  ... 140.250000 199.000000\n",
              "BloodPressure            768.000000  69.105469  ...  80.000000 122.000000\n",
              "SkinThickness            768.000000  20.536458  ...  32.000000  99.000000\n",
              "Insulin                  768.000000  79.799479  ... 127.250000 846.000000\n",
              "BMI                      768.000000  31.992578  ...  36.600000  67.100000\n",
              "DiabetesPedigreeFunction 768.000000   0.471876  ...   0.626250   2.420000\n",
              "Age                      768.000000  33.240885  ...  41.000000  81.000000\n",
              "Outcome                  768.000000   0.348958  ...   1.000000   1.000000\n",
              "\n",
              "[9 rows x 8 columns]"
            ]
          },
          "metadata": {
            "tags": []
          },
          "execution_count": 7
        }
      ]
    },
    {
      "cell_type": "code",
      "metadata": {
        "id": "8_IJE1bEmQji",
        "colab_type": "code",
        "colab": {
          "base_uri": "https://localhost:8080/",
          "height": 203
        },
        "outputId": "56d75c6c-d51b-4119-cc3d-d7c2d3d5b591"
      },
      "source": [
        "nulls_summary = pd.DataFrame(raw_data.isnull().any(), columns=['Nulls'])   \n",
        "nulls_summary['Num_of_nulls [qty]'] = pd.DataFrame(raw_data.isnull().sum())   \n",
        "nulls_summary['Num_of_nulls [%]'] = round((raw_data.isnull().mean()*100),2)   \n",
        "print(nulls_summary) "
      ],
      "execution_count": 14,
      "outputs": [
        {
          "output_type": "stream",
          "text": [
            "                          Nulls  Num_of_nulls [qty]  Num_of_nulls [%]\n",
            "Pregnancies               False                   0          0.000000\n",
            "Glucose                   False                   0          0.000000\n",
            "BloodPressure             False                   0          0.000000\n",
            "SkinThickness             False                   0          0.000000\n",
            "Insulin                   False                   0          0.000000\n",
            "BMI                       False                   0          0.000000\n",
            "DiabetesPedigreeFunction  False                   0          0.000000\n",
            "Age                       False                   0          0.000000\n",
            "Outcome                   False                   0          0.000000\n"
          ],
          "name": "stdout"
        }
      ]
    },
    {
      "cell_type": "markdown",
      "metadata": {
        "id": "XpEMfT9pUbrl",
        "colab_type": "text"
      },
      "source": [
        "Split data into test and train\n",
        "This is done randomly - 80% train, 20% test\n",
        "\n",
        "Train - to train neurons in the model\n",
        "Test - to verify that the model works correctly"
      ]
    },
    {
      "cell_type": "code",
      "metadata": {
        "id": "nGSiWx7vnMqQ",
        "colab_type": "code",
        "colab": {
          "base_uri": "https://localhost:8080/",
          "height": 54
        },
        "outputId": "b1f7b009-a594-4331-b623-f8c08a64b769"
      },
      "source": [
        "train_dataset = raw_data.sample(frac=0.8, random_state=0)\n",
        "test_dataset = raw_data.drop(train_dataset.index)\n",
        "\n",
        "print(f'train_dataset length: {len(train_dataset)}')\n",
        "print(f'test_dataset length: {len(test_dataset)}')"
      ],
      "execution_count": 15,
      "outputs": [
        {
          "output_type": "stream",
          "text": [
            "train_dataset length: 614\n",
            "test_dataset length: 154\n"
          ],
          "name": "stdout"
        }
      ]
    },
    {
      "cell_type": "code",
      "metadata": {
        "id": "6SF2GiRVndKQ",
        "colab_type": "code",
        "colab": {
          "base_uri": "https://localhost:8080/",
          "height": 204
        },
        "outputId": "1860fba2-3cd1-43cb-966b-40bb881deb59"
      },
      "source": [
        "\n",
        "\n",
        "train_dataset.head()\n",
        "\n"
      ],
      "execution_count": null,
      "outputs": [
        {
          "output_type": "execute_result",
          "data": {
            "text/html": [
              "<div>\n",
              "<style scoped>\n",
              "    .dataframe tbody tr th:only-of-type {\n",
              "        vertical-align: middle;\n",
              "    }\n",
              "\n",
              "    .dataframe tbody tr th {\n",
              "        vertical-align: top;\n",
              "    }\n",
              "\n",
              "    .dataframe thead th {\n",
              "        text-align: right;\n",
              "    }\n",
              "</style>\n",
              "<table border=\"1\" class=\"dataframe\">\n",
              "  <thead>\n",
              "    <tr style=\"text-align: right;\">\n",
              "      <th></th>\n",
              "      <th>Pregnancies</th>\n",
              "      <th>Glucose</th>\n",
              "      <th>BloodPressure</th>\n",
              "      <th>SkinThickness</th>\n",
              "      <th>Insulin</th>\n",
              "      <th>BMI</th>\n",
              "      <th>DiabetesPedigreeFunction</th>\n",
              "      <th>Age</th>\n",
              "      <th>Outcome</th>\n",
              "    </tr>\n",
              "  </thead>\n",
              "  <tbody>\n",
              "    <tr>\n",
              "      <th>661</th>\n",
              "      <td>1</td>\n",
              "      <td>199</td>\n",
              "      <td>76</td>\n",
              "      <td>43</td>\n",
              "      <td>0</td>\n",
              "      <td>42.900000</td>\n",
              "      <td>1.394000</td>\n",
              "      <td>22</td>\n",
              "      <td>1</td>\n",
              "    </tr>\n",
              "    <tr>\n",
              "      <th>122</th>\n",
              "      <td>2</td>\n",
              "      <td>107</td>\n",
              "      <td>74</td>\n",
              "      <td>30</td>\n",
              "      <td>100</td>\n",
              "      <td>33.600000</td>\n",
              "      <td>0.404000</td>\n",
              "      <td>23</td>\n",
              "      <td>0</td>\n",
              "    </tr>\n",
              "    <tr>\n",
              "      <th>113</th>\n",
              "      <td>4</td>\n",
              "      <td>76</td>\n",
              "      <td>62</td>\n",
              "      <td>0</td>\n",
              "      <td>0</td>\n",
              "      <td>34.000000</td>\n",
              "      <td>0.391000</td>\n",
              "      <td>25</td>\n",
              "      <td>0</td>\n",
              "    </tr>\n",
              "    <tr>\n",
              "      <th>14</th>\n",
              "      <td>5</td>\n",
              "      <td>166</td>\n",
              "      <td>72</td>\n",
              "      <td>19</td>\n",
              "      <td>175</td>\n",
              "      <td>25.800000</td>\n",
              "      <td>0.587000</td>\n",
              "      <td>51</td>\n",
              "      <td>1</td>\n",
              "    </tr>\n",
              "    <tr>\n",
              "      <th>529</th>\n",
              "      <td>0</td>\n",
              "      <td>111</td>\n",
              "      <td>65</td>\n",
              "      <td>0</td>\n",
              "      <td>0</td>\n",
              "      <td>24.600000</td>\n",
              "      <td>0.660000</td>\n",
              "      <td>31</td>\n",
              "      <td>0</td>\n",
              "    </tr>\n",
              "  </tbody>\n",
              "</table>\n",
              "</div>"
            ],
            "text/plain": [
              "     Pregnancies  Glucose  ...  Age  Outcome\n",
              "661            1      199  ...   22        1\n",
              "122            2      107  ...   23        0\n",
              "113            4       76  ...   25        0\n",
              "14             5      166  ...   51        1\n",
              "529            0      111  ...   31        0\n",
              "\n",
              "[5 rows x 9 columns]"
            ]
          },
          "metadata": {
            "tags": []
          },
          "execution_count": 10
        }
      ]
    },
    {
      "cell_type": "code",
      "metadata": {
        "id": "1ITub0xJneDr",
        "colab_type": "code",
        "colab": {
          "base_uri": "https://localhost:8080/",
          "height": 204
        },
        "outputId": "e5f33030-6bce-4c07-8679-1d327ba41f9c"
      },
      "source": [
        "\n",
        "\n",
        "test_dataset.head()\n",
        "\n"
      ],
      "execution_count": null,
      "outputs": [
        {
          "output_type": "execute_result",
          "data": {
            "text/html": [
              "<div>\n",
              "<style scoped>\n",
              "    .dataframe tbody tr th:only-of-type {\n",
              "        vertical-align: middle;\n",
              "    }\n",
              "\n",
              "    .dataframe tbody tr th {\n",
              "        vertical-align: top;\n",
              "    }\n",
              "\n",
              "    .dataframe thead th {\n",
              "        text-align: right;\n",
              "    }\n",
              "</style>\n",
              "<table border=\"1\" class=\"dataframe\">\n",
              "  <thead>\n",
              "    <tr style=\"text-align: right;\">\n",
              "      <th></th>\n",
              "      <th>Pregnancies</th>\n",
              "      <th>Glucose</th>\n",
              "      <th>BloodPressure</th>\n",
              "      <th>SkinThickness</th>\n",
              "      <th>Insulin</th>\n",
              "      <th>BMI</th>\n",
              "      <th>DiabetesPedigreeFunction</th>\n",
              "      <th>Age</th>\n",
              "      <th>Outcome</th>\n",
              "    </tr>\n",
              "  </thead>\n",
              "  <tbody>\n",
              "    <tr>\n",
              "      <th>9</th>\n",
              "      <td>8</td>\n",
              "      <td>125</td>\n",
              "      <td>96</td>\n",
              "      <td>0</td>\n",
              "      <td>0</td>\n",
              "      <td>0.000000</td>\n",
              "      <td>0.232000</td>\n",
              "      <td>54</td>\n",
              "      <td>1</td>\n",
              "    </tr>\n",
              "    <tr>\n",
              "      <th>11</th>\n",
              "      <td>10</td>\n",
              "      <td>168</td>\n",
              "      <td>74</td>\n",
              "      <td>0</td>\n",
              "      <td>0</td>\n",
              "      <td>38.000000</td>\n",
              "      <td>0.537000</td>\n",
              "      <td>34</td>\n",
              "      <td>1</td>\n",
              "    </tr>\n",
              "    <tr>\n",
              "      <th>19</th>\n",
              "      <td>1</td>\n",
              "      <td>115</td>\n",
              "      <td>70</td>\n",
              "      <td>30</td>\n",
              "      <td>96</td>\n",
              "      <td>34.600000</td>\n",
              "      <td>0.529000</td>\n",
              "      <td>32</td>\n",
              "      <td>1</td>\n",
              "    </tr>\n",
              "    <tr>\n",
              "      <th>23</th>\n",
              "      <td>9</td>\n",
              "      <td>119</td>\n",
              "      <td>80</td>\n",
              "      <td>35</td>\n",
              "      <td>0</td>\n",
              "      <td>29.000000</td>\n",
              "      <td>0.263000</td>\n",
              "      <td>29</td>\n",
              "      <td>1</td>\n",
              "    </tr>\n",
              "    <tr>\n",
              "      <th>28</th>\n",
              "      <td>13</td>\n",
              "      <td>145</td>\n",
              "      <td>82</td>\n",
              "      <td>19</td>\n",
              "      <td>110</td>\n",
              "      <td>22.200000</td>\n",
              "      <td>0.245000</td>\n",
              "      <td>57</td>\n",
              "      <td>0</td>\n",
              "    </tr>\n",
              "  </tbody>\n",
              "</table>\n",
              "</div>"
            ],
            "text/plain": [
              "    Pregnancies  Glucose  BloodPressure  ...  DiabetesPedigreeFunction  Age  Outcome\n",
              "9             8      125             96  ...                  0.232000   54        1\n",
              "11           10      168             74  ...                  0.537000   34        1\n",
              "19            1      115             70  ...                  0.529000   32        1\n",
              "23            9      119             80  ...                  0.263000   29        1\n",
              "28           13      145             82  ...                  0.245000   57        0\n",
              "\n",
              "[5 rows x 9 columns]"
            ]
          },
          "metadata": {
            "tags": []
          },
          "execution_count": 11
        }
      ]
    },
    {
      "cell_type": "code",
      "metadata": {
        "id": "x7dzJvcInh2M",
        "colab_type": "code",
        "colab": {
          "base_uri": "https://localhost:8080/",
          "height": 300
        },
        "outputId": "da5912a9-1eff-44b8-a451-3d159dad4d41"
      },
      "source": [
        "train_stats = train_dataset.describe()\n",
        "train_stats.pop('Outcome')\n",
        "train_stats = train_stats.transpose()\n",
        "train_stats"
      ],
      "execution_count": 16,
      "outputs": [
        {
          "output_type": "execute_result",
          "data": {
            "text/html": [
              "<div>\n",
              "<style scoped>\n",
              "    .dataframe tbody tr th:only-of-type {\n",
              "        vertical-align: middle;\n",
              "    }\n",
              "\n",
              "    .dataframe tbody tr th {\n",
              "        vertical-align: top;\n",
              "    }\n",
              "\n",
              "    .dataframe thead th {\n",
              "        text-align: right;\n",
              "    }\n",
              "</style>\n",
              "<table border=\"1\" class=\"dataframe\">\n",
              "  <thead>\n",
              "    <tr style=\"text-align: right;\">\n",
              "      <th></th>\n",
              "      <th>count</th>\n",
              "      <th>mean</th>\n",
              "      <th>std</th>\n",
              "      <th>min</th>\n",
              "      <th>25%</th>\n",
              "      <th>50%</th>\n",
              "      <th>75%</th>\n",
              "      <th>max</th>\n",
              "    </tr>\n",
              "  </thead>\n",
              "  <tbody>\n",
              "    <tr>\n",
              "      <th>Pregnancies</th>\n",
              "      <td>614.000000</td>\n",
              "      <td>3.863192</td>\n",
              "      <td>3.382738</td>\n",
              "      <td>0.000000</td>\n",
              "      <td>1.000000</td>\n",
              "      <td>3.000000</td>\n",
              "      <td>6.000000</td>\n",
              "      <td>17.000000</td>\n",
              "    </tr>\n",
              "    <tr>\n",
              "      <th>Glucose</th>\n",
              "      <td>614.000000</td>\n",
              "      <td>121.636808</td>\n",
              "      <td>32.016768</td>\n",
              "      <td>0.000000</td>\n",
              "      <td>100.000000</td>\n",
              "      <td>118.500000</td>\n",
              "      <td>140.750000</td>\n",
              "      <td>199.000000</td>\n",
              "    </tr>\n",
              "    <tr>\n",
              "      <th>BloodPressure</th>\n",
              "      <td>614.000000</td>\n",
              "      <td>68.576547</td>\n",
              "      <td>19.911136</td>\n",
              "      <td>0.000000</td>\n",
              "      <td>62.000000</td>\n",
              "      <td>72.000000</td>\n",
              "      <td>80.000000</td>\n",
              "      <td>122.000000</td>\n",
              "    </tr>\n",
              "    <tr>\n",
              "      <th>SkinThickness</th>\n",
              "      <td>614.000000</td>\n",
              "      <td>20.314332</td>\n",
              "      <td>16.082796</td>\n",
              "      <td>0.000000</td>\n",
              "      <td>0.000000</td>\n",
              "      <td>23.000000</td>\n",
              "      <td>32.000000</td>\n",
              "      <td>99.000000</td>\n",
              "    </tr>\n",
              "    <tr>\n",
              "      <th>Insulin</th>\n",
              "      <td>614.000000</td>\n",
              "      <td>78.301303</td>\n",
              "      <td>115.537423</td>\n",
              "      <td>0.000000</td>\n",
              "      <td>0.000000</td>\n",
              "      <td>7.000000</td>\n",
              "      <td>127.750000</td>\n",
              "      <td>846.000000</td>\n",
              "    </tr>\n",
              "    <tr>\n",
              "      <th>BMI</th>\n",
              "      <td>614.000000</td>\n",
              "      <td>32.106678</td>\n",
              "      <td>7.712639</td>\n",
              "      <td>0.000000</td>\n",
              "      <td>27.400000</td>\n",
              "      <td>32.150000</td>\n",
              "      <td>36.575000</td>\n",
              "      <td>59.400000</td>\n",
              "    </tr>\n",
              "    <tr>\n",
              "      <th>DiabetesPedigreeFunction</th>\n",
              "      <td>614.000000</td>\n",
              "      <td>0.475573</td>\n",
              "      <td>0.329461</td>\n",
              "      <td>0.078000</td>\n",
              "      <td>0.245250</td>\n",
              "      <td>0.377000</td>\n",
              "      <td>0.639250</td>\n",
              "      <td>2.420000</td>\n",
              "    </tr>\n",
              "    <tr>\n",
              "      <th>Age</th>\n",
              "      <td>614.000000</td>\n",
              "      <td>33.364821</td>\n",
              "      <td>11.593037</td>\n",
              "      <td>21.000000</td>\n",
              "      <td>24.000000</td>\n",
              "      <td>29.000000</td>\n",
              "      <td>41.000000</td>\n",
              "      <td>72.000000</td>\n",
              "    </tr>\n",
              "  </tbody>\n",
              "</table>\n",
              "</div>"
            ],
            "text/plain": [
              "                              count       mean  ...        75%        max\n",
              "Pregnancies              614.000000   3.863192  ...   6.000000  17.000000\n",
              "Glucose                  614.000000 121.636808  ... 140.750000 199.000000\n",
              "BloodPressure            614.000000  68.576547  ...  80.000000 122.000000\n",
              "SkinThickness            614.000000  20.314332  ...  32.000000  99.000000\n",
              "Insulin                  614.000000  78.301303  ... 127.750000 846.000000\n",
              "BMI                      614.000000  32.106678  ...  36.575000  59.400000\n",
              "DiabetesPedigreeFunction 614.000000   0.475573  ...   0.639250   2.420000\n",
              "Age                      614.000000  33.364821  ...  41.000000  72.000000\n",
              "\n",
              "[8 rows x 8 columns]"
            ]
          },
          "metadata": {
            "tags": []
          },
          "execution_count": 16
        }
      ]
    },
    {
      "cell_type": "code",
      "metadata": {
        "id": "d7oThhOIuJoN",
        "colab_type": "code",
        "colab": {}
      },
      "source": [
        "train_labels = train_dataset.pop('Outcome')\n",
        "test_labels = test_dataset.pop('Outcome')"
      ],
      "execution_count": 17,
      "outputs": []
    },
    {
      "cell_type": "code",
      "metadata": {
        "id": "rK3DA7A1uXrN",
        "colab_type": "code",
        "colab": {}
      },
      "source": [
        "def norm(x):\n",
        "    return (x - train_stats['mean']) / train_stats['std']"
      ],
      "execution_count": 18,
      "outputs": []
    },
    {
      "cell_type": "code",
      "metadata": {
        "id": "9zfNjJLkud9P",
        "colab_type": "code",
        "colab": {}
      },
      "source": [
        "normed_train_data = norm(train_dataset)\n",
        "normed_test_data = norm(test_dataset)"
      ],
      "execution_count": 19,
      "outputs": []
    },
    {
      "cell_type": "code",
      "metadata": {
        "id": "Vy0f1Fd8ue5x",
        "colab_type": "code",
        "colab": {
          "base_uri": "https://localhost:8080/",
          "height": 185
        },
        "outputId": "a788f32c-8c7a-4414-fdd5-95348821fb9d"
      },
      "source": [
        "normed_train_data.isnull().sum()"
      ],
      "execution_count": 20,
      "outputs": [
        {
          "output_type": "execute_result",
          "data": {
            "text/plain": [
              "Pregnancies                 0\n",
              "Glucose                     0\n",
              "BloodPressure               0\n",
              "SkinThickness               0\n",
              "Insulin                     0\n",
              "BMI                         0\n",
              "DiabetesPedigreeFunction    0\n",
              "Age                         0\n",
              "dtype: int64"
            ]
          },
          "metadata": {
            "tags": []
          },
          "execution_count": 20
        }
      ]
    },
    {
      "cell_type": "code",
      "metadata": {
        "id": "HB9D5WGxuiCF",
        "colab_type": "code",
        "colab": {
          "base_uri": "https://localhost:8080/",
          "height": 174
        },
        "outputId": "9a5b746b-8271-451b-a011-e008e5c5a9b2"
      },
      "source": [
        "normed_train_data.head(4)"
      ],
      "execution_count": 21,
      "outputs": [
        {
          "output_type": "execute_result",
          "data": {
            "text/html": [
              "<div>\n",
              "<style scoped>\n",
              "    .dataframe tbody tr th:only-of-type {\n",
              "        vertical-align: middle;\n",
              "    }\n",
              "\n",
              "    .dataframe tbody tr th {\n",
              "        vertical-align: top;\n",
              "    }\n",
              "\n",
              "    .dataframe thead th {\n",
              "        text-align: right;\n",
              "    }\n",
              "</style>\n",
              "<table border=\"1\" class=\"dataframe\">\n",
              "  <thead>\n",
              "    <tr style=\"text-align: right;\">\n",
              "      <th></th>\n",
              "      <th>Pregnancies</th>\n",
              "      <th>Glucose</th>\n",
              "      <th>BloodPressure</th>\n",
              "      <th>SkinThickness</th>\n",
              "      <th>Insulin</th>\n",
              "      <th>BMI</th>\n",
              "      <th>DiabetesPedigreeFunction</th>\n",
              "      <th>Age</th>\n",
              "    </tr>\n",
              "  </thead>\n",
              "  <tbody>\n",
              "    <tr>\n",
              "      <th>661</th>\n",
              "      <td>-0.846413</td>\n",
              "      <td>2.416334</td>\n",
              "      <td>0.372829</td>\n",
              "      <td>1.410555</td>\n",
              "      <td>-0.677714</td>\n",
              "      <td>1.399433</td>\n",
              "      <td>2.787664</td>\n",
              "      <td>-0.980314</td>\n",
              "    </tr>\n",
              "    <tr>\n",
              "      <th>122</th>\n",
              "      <td>-0.550794</td>\n",
              "      <td>-0.457161</td>\n",
              "      <td>0.272383</td>\n",
              "      <td>0.602238</td>\n",
              "      <td>0.187807</td>\n",
              "      <td>0.193620</td>\n",
              "      <td>-0.217244</td>\n",
              "      <td>-0.894056</td>\n",
              "    </tr>\n",
              "    <tr>\n",
              "      <th>113</th>\n",
              "      <td>0.040443</td>\n",
              "      <td>-1.425403</td>\n",
              "      <td>-0.330295</td>\n",
              "      <td>-1.263109</td>\n",
              "      <td>-0.677714</td>\n",
              "      <td>0.245483</td>\n",
              "      <td>-0.256702</td>\n",
              "      <td>-0.721538</td>\n",
              "    </tr>\n",
              "    <tr>\n",
              "      <th>14</th>\n",
              "      <td>0.336061</td>\n",
              "      <td>1.385624</td>\n",
              "      <td>0.171937</td>\n",
              "      <td>-0.081723</td>\n",
              "      <td>0.836947</td>\n",
              "      <td>-0.817707</td>\n",
              "      <td>0.338209</td>\n",
              "      <td>1.521187</td>\n",
              "    </tr>\n",
              "  </tbody>\n",
              "</table>\n",
              "</div>"
            ],
            "text/plain": [
              "     Pregnancies   Glucose  ...  DiabetesPedigreeFunction       Age\n",
              "661    -0.846413  2.416334  ...                  2.787664 -0.980314\n",
              "122    -0.550794 -0.457161  ...                 -0.217244 -0.894056\n",
              "113     0.040443 -1.425403  ...                 -0.256702 -0.721538\n",
              "14      0.336061  1.385624  ...                  0.338209  1.521187\n",
              "\n",
              "[4 rows x 8 columns]"
            ]
          },
          "metadata": {
            "tags": []
          },
          "execution_count": 21
        }
      ]
    },
    {
      "cell_type": "code",
      "metadata": {
        "id": "3SoYb4ruun5J",
        "colab_type": "code",
        "colab": {
          "base_uri": "https://localhost:8080/",
          "height": 174
        },
        "outputId": "bebd6640-1347-46e3-ceff-844c1dee25ae"
      },
      "source": [
        "\n",
        "\n",
        "normed_test_data.head(4)\n",
        "\n"
      ],
      "execution_count": 22,
      "outputs": [
        {
          "output_type": "execute_result",
          "data": {
            "text/html": [
              "<div>\n",
              "<style scoped>\n",
              "    .dataframe tbody tr th:only-of-type {\n",
              "        vertical-align: middle;\n",
              "    }\n",
              "\n",
              "    .dataframe tbody tr th {\n",
              "        vertical-align: top;\n",
              "    }\n",
              "\n",
              "    .dataframe thead th {\n",
              "        text-align: right;\n",
              "    }\n",
              "</style>\n",
              "<table border=\"1\" class=\"dataframe\">\n",
              "  <thead>\n",
              "    <tr style=\"text-align: right;\">\n",
              "      <th></th>\n",
              "      <th>Pregnancies</th>\n",
              "      <th>Glucose</th>\n",
              "      <th>BloodPressure</th>\n",
              "      <th>SkinThickness</th>\n",
              "      <th>Insulin</th>\n",
              "      <th>BMI</th>\n",
              "      <th>DiabetesPedigreeFunction</th>\n",
              "      <th>Age</th>\n",
              "    </tr>\n",
              "  </thead>\n",
              "  <tbody>\n",
              "    <tr>\n",
              "      <th>9</th>\n",
              "      <td>1.222917</td>\n",
              "      <td>0.105045</td>\n",
              "      <td>1.377292</td>\n",
              "      <td>-1.263109</td>\n",
              "      <td>-0.677714</td>\n",
              "      <td>-4.162865</td>\n",
              "      <td>-0.739308</td>\n",
              "      <td>1.779963</td>\n",
              "    </tr>\n",
              "    <tr>\n",
              "      <th>11</th>\n",
              "      <td>1.814154</td>\n",
              "      <td>1.448091</td>\n",
              "      <td>0.272383</td>\n",
              "      <td>-1.263109</td>\n",
              "      <td>-0.677714</td>\n",
              "      <td>0.764112</td>\n",
              "      <td>0.186446</td>\n",
              "      <td>0.054790</td>\n",
              "    </tr>\n",
              "    <tr>\n",
              "      <th>19</th>\n",
              "      <td>-0.846413</td>\n",
              "      <td>-0.207292</td>\n",
              "      <td>0.071490</td>\n",
              "      <td>0.602238</td>\n",
              "      <td>0.153186</td>\n",
              "      <td>0.323277</td>\n",
              "      <td>0.162164</td>\n",
              "      <td>-0.117728</td>\n",
              "    </tr>\n",
              "    <tr>\n",
              "      <th>23</th>\n",
              "      <td>1.518535</td>\n",
              "      <td>-0.082357</td>\n",
              "      <td>0.573722</td>\n",
              "      <td>0.913129</td>\n",
              "      <td>-0.677714</td>\n",
              "      <td>-0.402803</td>\n",
              "      <td>-0.645215</td>\n",
              "      <td>-0.376504</td>\n",
              "    </tr>\n",
              "  </tbody>\n",
              "</table>\n",
              "</div>"
            ],
            "text/plain": [
              "    Pregnancies   Glucose  ...  DiabetesPedigreeFunction       Age\n",
              "9      1.222917  0.105045  ...                 -0.739308  1.779963\n",
              "11     1.814154  1.448091  ...                  0.186446  0.054790\n",
              "19    -0.846413 -0.207292  ...                  0.162164 -0.117728\n",
              "23     1.518535 -0.082357  ...                 -0.645215 -0.376504\n",
              "\n",
              "[4 rows x 8 columns]"
            ]
          },
          "metadata": {
            "tags": []
          },
          "execution_count": 22
        }
      ]
    },
    {
      "cell_type": "code",
      "metadata": {
        "id": "2ueME72auqVh",
        "colab_type": "code",
        "colab": {
          "base_uri": "https://localhost:8080/",
          "height": 36
        },
        "outputId": "25a3f8dd-4c20-49d1-f603-ff18a69478cc"
      },
      "source": [
        "normed_test_data = normed_test_data.values\n",
        "normed_train_data = normed_train_data.values\n",
        "len(normed_test_data)"
      ],
      "execution_count": 23,
      "outputs": [
        {
          "output_type": "execute_result",
          "data": {
            "text/plain": [
              "154"
            ]
          },
          "metadata": {
            "tags": []
          },
          "execution_count": 23
        }
      ]
    },
    {
      "cell_type": "markdown",
      "metadata": {
        "id": "szl4KAL1VnuL",
        "colab_type": "text"
      },
      "source": [
        "Model architecture\n",
        "\n",
        "Describe the layers - number of layers, what layers included (hidden, softmax...), the type of model sequential\n",
        "\n",
        "\n",
        "A Sequential model is appropriate for a plain stack of layers where each layer has exactly one input tensor and one output tensor."
      ]
    },
    {
      "cell_type": "code",
      "metadata": {
        "id": "TiqS7HDouwSl",
        "colab_type": "code",
        "colab": {}
      },
      "source": [
        "def build_model():\n",
        "    model = Sequential()\n",
        "    model.add(Dense(250, kernel_regularizer='l2', activation='relu', input_shape=[len(train_dataset.keys())]))\n",
        "    model.add(Dense(2, activation='softmax'))\n",
        "   \n",
        "    model.compile(optimizer='adam',\n",
        "                  loss='sparse_categorical_crossentropy',\n",
        "                  metrics=['accuracy'])\n",
        "    return model"
      ],
      "execution_count": 24,
      "outputs": []
    },
    {
      "cell_type": "code",
      "metadata": {
        "id": "2ZOEJV1ZvHUG",
        "colab_type": "code",
        "colab": {
          "base_uri": "https://localhost:8080/",
          "height": 241
        },
        "outputId": "658a32fb-0bee-4744-eca4-77e157e289e5"
      },
      "source": [
        "model = build_model()\n",
        "model.summary()"
      ],
      "execution_count": 25,
      "outputs": [
        {
          "output_type": "stream",
          "text": [
            "Model: \"sequential\"\n",
            "_________________________________________________________________\n",
            "Layer (type)                 Output Shape              Param #   \n",
            "=================================================================\n",
            "dense (Dense)                (None, 250)               2250      \n",
            "_________________________________________________________________\n",
            "dense_1 (Dense)              (None, 2)                 502       \n",
            "=================================================================\n",
            "Total params: 2,752\n",
            "Trainable params: 2,752\n",
            "Non-trainable params: 0\n",
            "_________________________________________________________________\n"
          ],
          "name": "stdout"
        }
      ]
    },
    {
      "cell_type": "markdown",
      "metadata": {
        "id": "MpJnHFzvWEaW",
        "colab_type": "text"
      },
      "source": [
        "**Training the model**"
      ]
    },
    {
      "cell_type": "code",
      "metadata": {
        "id": "g69gZHwbvKhu",
        "colab_type": "code",
        "colab": {
          "base_uri": "https://localhost:8080/",
          "height": 1000
        },
        "outputId": "01f1ad04-cecd-4b23-dce8-cf0c49e921fb"
      },
      "source": [
        "history = model.fit(normed_train_data, train_labels.values, epochs=100, validation_split=0.2, verbose=1, batch_size=32)"
      ],
      "execution_count": 26,
      "outputs": [
        {
          "output_type": "stream",
          "text": [
            "Epoch 1/100\n",
            "16/16 [==============================] - 0s 11ms/step - loss: 0.7318 - accuracy: 0.7434 - val_loss: 0.7036 - val_accuracy: 0.7154\n",
            "Epoch 2/100\n",
            "16/16 [==============================] - 0s 2ms/step - loss: 0.6215 - accuracy: 0.7882 - val_loss: 0.6576 - val_accuracy: 0.6992\n",
            "Epoch 3/100\n",
            "16/16 [==============================] - 0s 2ms/step - loss: 0.5834 - accuracy: 0.7902 - val_loss: 0.6455 - val_accuracy: 0.7073\n",
            "Epoch 4/100\n",
            "16/16 [==============================] - 0s 2ms/step - loss: 0.5605 - accuracy: 0.7923 - val_loss: 0.6391 - val_accuracy: 0.7073\n",
            "Epoch 5/100\n",
            "16/16 [==============================] - 0s 2ms/step - loss: 0.5436 - accuracy: 0.7821 - val_loss: 0.6336 - val_accuracy: 0.6992\n",
            "Epoch 6/100\n",
            "16/16 [==============================] - 0s 2ms/step - loss: 0.5287 - accuracy: 0.7923 - val_loss: 0.6294 - val_accuracy: 0.7073\n",
            "Epoch 7/100\n",
            "16/16 [==============================] - 0s 2ms/step - loss: 0.5158 - accuracy: 0.7923 - val_loss: 0.6199 - val_accuracy: 0.7154\n",
            "Epoch 8/100\n",
            "16/16 [==============================] - 0s 2ms/step - loss: 0.5060 - accuracy: 0.7963 - val_loss: 0.6123 - val_accuracy: 0.7073\n",
            "Epoch 9/100\n",
            "16/16 [==============================] - 0s 2ms/step - loss: 0.4972 - accuracy: 0.8045 - val_loss: 0.6118 - val_accuracy: 0.7154\n",
            "Epoch 10/100\n",
            "16/16 [==============================] - 0s 2ms/step - loss: 0.4896 - accuracy: 0.8065 - val_loss: 0.6074 - val_accuracy: 0.7073\n",
            "Epoch 11/100\n",
            "16/16 [==============================] - 0s 3ms/step - loss: 0.4824 - accuracy: 0.8065 - val_loss: 0.6008 - val_accuracy: 0.7154\n",
            "Epoch 12/100\n",
            "16/16 [==============================] - 0s 2ms/step - loss: 0.4769 - accuracy: 0.8126 - val_loss: 0.5933 - val_accuracy: 0.7154\n",
            "Epoch 13/100\n",
            "16/16 [==============================] - 0s 2ms/step - loss: 0.4703 - accuracy: 0.8126 - val_loss: 0.5917 - val_accuracy: 0.7073\n",
            "Epoch 14/100\n",
            "16/16 [==============================] - 0s 2ms/step - loss: 0.4677 - accuracy: 0.8086 - val_loss: 0.5897 - val_accuracy: 0.6992\n",
            "Epoch 15/100\n",
            "16/16 [==============================] - 0s 2ms/step - loss: 0.4634 - accuracy: 0.8065 - val_loss: 0.5892 - val_accuracy: 0.7073\n",
            "Epoch 16/100\n",
            "16/16 [==============================] - 0s 2ms/step - loss: 0.4588 - accuracy: 0.8086 - val_loss: 0.5875 - val_accuracy: 0.7236\n",
            "Epoch 17/100\n",
            "16/16 [==============================] - 0s 3ms/step - loss: 0.4562 - accuracy: 0.8126 - val_loss: 0.5844 - val_accuracy: 0.7236\n",
            "Epoch 18/100\n",
            "16/16 [==============================] - 0s 3ms/step - loss: 0.4525 - accuracy: 0.8147 - val_loss: 0.5819 - val_accuracy: 0.7154\n",
            "Epoch 19/100\n",
            "16/16 [==============================] - 0s 3ms/step - loss: 0.4498 - accuracy: 0.8167 - val_loss: 0.5821 - val_accuracy: 0.7073\n",
            "Epoch 20/100\n",
            "16/16 [==============================] - 0s 3ms/step - loss: 0.4472 - accuracy: 0.8147 - val_loss: 0.5722 - val_accuracy: 0.6992\n",
            "Epoch 21/100\n",
            "16/16 [==============================] - 0s 2ms/step - loss: 0.4450 - accuracy: 0.8126 - val_loss: 0.5718 - val_accuracy: 0.7317\n",
            "Epoch 22/100\n",
            "16/16 [==============================] - 0s 2ms/step - loss: 0.4438 - accuracy: 0.8147 - val_loss: 0.5714 - val_accuracy: 0.7154\n",
            "Epoch 23/100\n",
            "16/16 [==============================] - 0s 3ms/step - loss: 0.4412 - accuracy: 0.8208 - val_loss: 0.5721 - val_accuracy: 0.7154\n",
            "Epoch 24/100\n",
            "16/16 [==============================] - 0s 3ms/step - loss: 0.4387 - accuracy: 0.8187 - val_loss: 0.5690 - val_accuracy: 0.7073\n",
            "Epoch 25/100\n",
            "16/16 [==============================] - 0s 2ms/step - loss: 0.4356 - accuracy: 0.8208 - val_loss: 0.5692 - val_accuracy: 0.7317\n",
            "Epoch 26/100\n",
            "16/16 [==============================] - 0s 2ms/step - loss: 0.4362 - accuracy: 0.8208 - val_loss: 0.5673 - val_accuracy: 0.7073\n",
            "Epoch 27/100\n",
            "16/16 [==============================] - 0s 3ms/step - loss: 0.4337 - accuracy: 0.8208 - val_loss: 0.5700 - val_accuracy: 0.7073\n",
            "Epoch 28/100\n",
            "16/16 [==============================] - 0s 2ms/step - loss: 0.4314 - accuracy: 0.8248 - val_loss: 0.5590 - val_accuracy: 0.7317\n",
            "Epoch 29/100\n",
            "16/16 [==============================] - 0s 2ms/step - loss: 0.4315 - accuracy: 0.8248 - val_loss: 0.5597 - val_accuracy: 0.7154\n",
            "Epoch 30/100\n",
            "16/16 [==============================] - 0s 2ms/step - loss: 0.4322 - accuracy: 0.8187 - val_loss: 0.5726 - val_accuracy: 0.7236\n",
            "Epoch 31/100\n",
            "16/16 [==============================] - 0s 2ms/step - loss: 0.4285 - accuracy: 0.8228 - val_loss: 0.5633 - val_accuracy: 0.7154\n",
            "Epoch 32/100\n",
            "16/16 [==============================] - 0s 2ms/step - loss: 0.4280 - accuracy: 0.8248 - val_loss: 0.5639 - val_accuracy: 0.7317\n",
            "Epoch 33/100\n",
            "16/16 [==============================] - 0s 3ms/step - loss: 0.4250 - accuracy: 0.8187 - val_loss: 0.5642 - val_accuracy: 0.7073\n",
            "Epoch 34/100\n",
            "16/16 [==============================] - 0s 2ms/step - loss: 0.4245 - accuracy: 0.8248 - val_loss: 0.5675 - val_accuracy: 0.7317\n",
            "Epoch 35/100\n",
            "16/16 [==============================] - 0s 2ms/step - loss: 0.4227 - accuracy: 0.8208 - val_loss: 0.5598 - val_accuracy: 0.7236\n",
            "Epoch 36/100\n",
            "16/16 [==============================] - 0s 2ms/step - loss: 0.4240 - accuracy: 0.8289 - val_loss: 0.5571 - val_accuracy: 0.7073\n",
            "Epoch 37/100\n",
            "16/16 [==============================] - 0s 2ms/step - loss: 0.4232 - accuracy: 0.8289 - val_loss: 0.5624 - val_accuracy: 0.7236\n",
            "Epoch 38/100\n",
            "16/16 [==============================] - 0s 2ms/step - loss: 0.4212 - accuracy: 0.8269 - val_loss: 0.5622 - val_accuracy: 0.7154\n",
            "Epoch 39/100\n",
            "16/16 [==============================] - 0s 2ms/step - loss: 0.4204 - accuracy: 0.8330 - val_loss: 0.5616 - val_accuracy: 0.7236\n",
            "Epoch 40/100\n",
            "16/16 [==============================] - 0s 2ms/step - loss: 0.4181 - accuracy: 0.8208 - val_loss: 0.5583 - val_accuracy: 0.7073\n",
            "Epoch 41/100\n",
            "16/16 [==============================] - 0s 2ms/step - loss: 0.4194 - accuracy: 0.8208 - val_loss: 0.5588 - val_accuracy: 0.7236\n",
            "Epoch 42/100\n",
            "16/16 [==============================] - 0s 2ms/step - loss: 0.4193 - accuracy: 0.8248 - val_loss: 0.5666 - val_accuracy: 0.7317\n",
            "Epoch 43/100\n",
            "16/16 [==============================] - 0s 2ms/step - loss: 0.4156 - accuracy: 0.8350 - val_loss: 0.5523 - val_accuracy: 0.7073\n",
            "Epoch 44/100\n",
            "16/16 [==============================] - 0s 2ms/step - loss: 0.4172 - accuracy: 0.8289 - val_loss: 0.5515 - val_accuracy: 0.7073\n",
            "Epoch 45/100\n",
            "16/16 [==============================] - 0s 2ms/step - loss: 0.4162 - accuracy: 0.8269 - val_loss: 0.5486 - val_accuracy: 0.7073\n",
            "Epoch 46/100\n",
            "16/16 [==============================] - 0s 2ms/step - loss: 0.4143 - accuracy: 0.8350 - val_loss: 0.5547 - val_accuracy: 0.7236\n",
            "Epoch 47/100\n",
            "16/16 [==============================] - 0s 2ms/step - loss: 0.4150 - accuracy: 0.8248 - val_loss: 0.5558 - val_accuracy: 0.7073\n",
            "Epoch 48/100\n",
            "16/16 [==============================] - 0s 2ms/step - loss: 0.4145 - accuracy: 0.8269 - val_loss: 0.5517 - val_accuracy: 0.7073\n",
            "Epoch 49/100\n",
            "16/16 [==============================] - 0s 2ms/step - loss: 0.4138 - accuracy: 0.8330 - val_loss: 0.5678 - val_accuracy: 0.7317\n",
            "Epoch 50/100\n",
            "16/16 [==============================] - 0s 2ms/step - loss: 0.4136 - accuracy: 0.8330 - val_loss: 0.5434 - val_accuracy: 0.7236\n",
            "Epoch 51/100\n",
            "16/16 [==============================] - 0s 2ms/step - loss: 0.4123 - accuracy: 0.8371 - val_loss: 0.5509 - val_accuracy: 0.7236\n",
            "Epoch 52/100\n",
            "16/16 [==============================] - 0s 2ms/step - loss: 0.4106 - accuracy: 0.8391 - val_loss: 0.5571 - val_accuracy: 0.7154\n",
            "Epoch 53/100\n",
            "16/16 [==============================] - 0s 3ms/step - loss: 0.4102 - accuracy: 0.8350 - val_loss: 0.5524 - val_accuracy: 0.7073\n",
            "Epoch 54/100\n",
            "16/16 [==============================] - 0s 2ms/step - loss: 0.4101 - accuracy: 0.8391 - val_loss: 0.5511 - val_accuracy: 0.7236\n",
            "Epoch 55/100\n",
            "16/16 [==============================] - 0s 2ms/step - loss: 0.4102 - accuracy: 0.8371 - val_loss: 0.5557 - val_accuracy: 0.7154\n",
            "Epoch 56/100\n",
            "16/16 [==============================] - 0s 2ms/step - loss: 0.4078 - accuracy: 0.8310 - val_loss: 0.5553 - val_accuracy: 0.7073\n",
            "Epoch 57/100\n",
            "16/16 [==============================] - 0s 2ms/step - loss: 0.4088 - accuracy: 0.8310 - val_loss: 0.5587 - val_accuracy: 0.7317\n",
            "Epoch 58/100\n",
            "16/16 [==============================] - 0s 2ms/step - loss: 0.4080 - accuracy: 0.8391 - val_loss: 0.5525 - val_accuracy: 0.7317\n",
            "Epoch 59/100\n",
            "16/16 [==============================] - 0s 2ms/step - loss: 0.4079 - accuracy: 0.8248 - val_loss: 0.5602 - val_accuracy: 0.7154\n",
            "Epoch 60/100\n",
            "16/16 [==============================] - 0s 2ms/step - loss: 0.4052 - accuracy: 0.8371 - val_loss: 0.5547 - val_accuracy: 0.7236\n",
            "Epoch 61/100\n",
            "16/16 [==============================] - 0s 3ms/step - loss: 0.4043 - accuracy: 0.8411 - val_loss: 0.5467 - val_accuracy: 0.7317\n",
            "Epoch 62/100\n",
            "16/16 [==============================] - 0s 3ms/step - loss: 0.4062 - accuracy: 0.8330 - val_loss: 0.5528 - val_accuracy: 0.7236\n",
            "Epoch 63/100\n",
            "16/16 [==============================] - 0s 2ms/step - loss: 0.4074 - accuracy: 0.8350 - val_loss: 0.5564 - val_accuracy: 0.6992\n",
            "Epoch 64/100\n",
            "16/16 [==============================] - 0s 2ms/step - loss: 0.4066 - accuracy: 0.8350 - val_loss: 0.5570 - val_accuracy: 0.7073\n",
            "Epoch 65/100\n",
            "16/16 [==============================] - 0s 2ms/step - loss: 0.4012 - accuracy: 0.8411 - val_loss: 0.5528 - val_accuracy: 0.7073\n",
            "Epoch 66/100\n",
            "16/16 [==============================] - 0s 2ms/step - loss: 0.4055 - accuracy: 0.8350 - val_loss: 0.5513 - val_accuracy: 0.7317\n",
            "Epoch 67/100\n",
            "16/16 [==============================] - 0s 2ms/step - loss: 0.4038 - accuracy: 0.8411 - val_loss: 0.5598 - val_accuracy: 0.7073\n",
            "Epoch 68/100\n",
            "16/16 [==============================] - 0s 2ms/step - loss: 0.4027 - accuracy: 0.8391 - val_loss: 0.5529 - val_accuracy: 0.7236\n",
            "Epoch 69/100\n",
            "16/16 [==============================] - 0s 2ms/step - loss: 0.4027 - accuracy: 0.8371 - val_loss: 0.5541 - val_accuracy: 0.7154\n",
            "Epoch 70/100\n",
            "16/16 [==============================] - 0s 3ms/step - loss: 0.4017 - accuracy: 0.8452 - val_loss: 0.5556 - val_accuracy: 0.6992\n",
            "Epoch 71/100\n",
            "16/16 [==============================] - 0s 2ms/step - loss: 0.3994 - accuracy: 0.8473 - val_loss: 0.5579 - val_accuracy: 0.7073\n",
            "Epoch 72/100\n",
            "16/16 [==============================] - 0s 2ms/step - loss: 0.4000 - accuracy: 0.8452 - val_loss: 0.5531 - val_accuracy: 0.7154\n",
            "Epoch 73/100\n",
            "16/16 [==============================] - 0s 2ms/step - loss: 0.4006 - accuracy: 0.8391 - val_loss: 0.5686 - val_accuracy: 0.7154\n",
            "Epoch 74/100\n",
            "16/16 [==============================] - 0s 3ms/step - loss: 0.4007 - accuracy: 0.8432 - val_loss: 0.5584 - val_accuracy: 0.7317\n",
            "Epoch 75/100\n",
            "16/16 [==============================] - 0s 3ms/step - loss: 0.3977 - accuracy: 0.8432 - val_loss: 0.5495 - val_accuracy: 0.7317\n",
            "Epoch 76/100\n",
            "16/16 [==============================] - 0s 2ms/step - loss: 0.3995 - accuracy: 0.8411 - val_loss: 0.5531 - val_accuracy: 0.7154\n",
            "Epoch 77/100\n",
            "16/16 [==============================] - 0s 2ms/step - loss: 0.3973 - accuracy: 0.8432 - val_loss: 0.5583 - val_accuracy: 0.7073\n",
            "Epoch 78/100\n",
            "16/16 [==============================] - 0s 2ms/step - loss: 0.3972 - accuracy: 0.8473 - val_loss: 0.5585 - val_accuracy: 0.7154\n",
            "Epoch 79/100\n",
            "16/16 [==============================] - 0s 3ms/step - loss: 0.3957 - accuracy: 0.8371 - val_loss: 0.5535 - val_accuracy: 0.7236\n",
            "Epoch 80/100\n",
            "16/16 [==============================] - 0s 2ms/step - loss: 0.3948 - accuracy: 0.8493 - val_loss: 0.5530 - val_accuracy: 0.7073\n",
            "Epoch 81/100\n",
            "16/16 [==============================] - 0s 2ms/step - loss: 0.3996 - accuracy: 0.8473 - val_loss: 0.5594 - val_accuracy: 0.7236\n",
            "Epoch 82/100\n",
            "16/16 [==============================] - 0s 2ms/step - loss: 0.3955 - accuracy: 0.8452 - val_loss: 0.5670 - val_accuracy: 0.7236\n",
            "Epoch 83/100\n",
            "16/16 [==============================] - 0s 2ms/step - loss: 0.3941 - accuracy: 0.8452 - val_loss: 0.5505 - val_accuracy: 0.7236\n",
            "Epoch 84/100\n",
            "16/16 [==============================] - 0s 3ms/step - loss: 0.3952 - accuracy: 0.8493 - val_loss: 0.5618 - val_accuracy: 0.7154\n",
            "Epoch 85/100\n",
            "16/16 [==============================] - 0s 2ms/step - loss: 0.3947 - accuracy: 0.8411 - val_loss: 0.5575 - val_accuracy: 0.6992\n",
            "Epoch 86/100\n",
            "16/16 [==============================] - 0s 2ms/step - loss: 0.3939 - accuracy: 0.8350 - val_loss: 0.5647 - val_accuracy: 0.7154\n",
            "Epoch 87/100\n",
            "16/16 [==============================] - 0s 2ms/step - loss: 0.3926 - accuracy: 0.8391 - val_loss: 0.5584 - val_accuracy: 0.7073\n",
            "Epoch 88/100\n",
            "16/16 [==============================] - 0s 2ms/step - loss: 0.3919 - accuracy: 0.8371 - val_loss: 0.5621 - val_accuracy: 0.7154\n",
            "Epoch 89/100\n",
            "16/16 [==============================] - 0s 3ms/step - loss: 0.3946 - accuracy: 0.8391 - val_loss: 0.5637 - val_accuracy: 0.7154\n",
            "Epoch 90/100\n",
            "16/16 [==============================] - 0s 2ms/step - loss: 0.3935 - accuracy: 0.8432 - val_loss: 0.5596 - val_accuracy: 0.7154\n",
            "Epoch 91/100\n",
            "16/16 [==============================] - 0s 2ms/step - loss: 0.3911 - accuracy: 0.8473 - val_loss: 0.5688 - val_accuracy: 0.7154\n",
            "Epoch 92/100\n",
            "16/16 [==============================] - 0s 2ms/step - loss: 0.3916 - accuracy: 0.8391 - val_loss: 0.5584 - val_accuracy: 0.7236\n",
            "Epoch 93/100\n",
            "16/16 [==============================] - 0s 2ms/step - loss: 0.3899 - accuracy: 0.8493 - val_loss: 0.5599 - val_accuracy: 0.7154\n",
            "Epoch 94/100\n",
            "16/16 [==============================] - 0s 2ms/step - loss: 0.3875 - accuracy: 0.8473 - val_loss: 0.5620 - val_accuracy: 0.7236\n",
            "Epoch 95/100\n",
            "16/16 [==============================] - 0s 2ms/step - loss: 0.3923 - accuracy: 0.8452 - val_loss: 0.5552 - val_accuracy: 0.7154\n",
            "Epoch 96/100\n",
            "16/16 [==============================] - 0s 2ms/step - loss: 0.3877 - accuracy: 0.8513 - val_loss: 0.5690 - val_accuracy: 0.7154\n",
            "Epoch 97/100\n",
            "16/16 [==============================] - 0s 2ms/step - loss: 0.3866 - accuracy: 0.8513 - val_loss: 0.5602 - val_accuracy: 0.7154\n",
            "Epoch 98/100\n",
            "16/16 [==============================] - 0s 2ms/step - loss: 0.3870 - accuracy: 0.8473 - val_loss: 0.5540 - val_accuracy: 0.7154\n",
            "Epoch 99/100\n",
            "16/16 [==============================] - 0s 3ms/step - loss: 0.3863 - accuracy: 0.8432 - val_loss: 0.5650 - val_accuracy: 0.7154\n",
            "Epoch 100/100\n",
            "16/16 [==============================] - 0s 2ms/step - loss: 0.3851 - accuracy: 0.8493 - val_loss: 0.5620 - val_accuracy: 0.7317\n"
          ],
          "name": "stdout"
        }
      ]
    },
    {
      "cell_type": "code",
      "metadata": {
        "id": "3jOzkRtHvgyc",
        "colab_type": "code",
        "colab": {
          "base_uri": "https://localhost:8080/",
          "height": 423
        },
        "outputId": "49ef60a4-33c6-4732-e11a-fb2e6e2e603c"
      },
      "source": [
        "metrics = pd.DataFrame(history.history)\n",
        "metrics['epoch'] = history.epoch\n",
        "metrics"
      ],
      "execution_count": 27,
      "outputs": [
        {
          "output_type": "execute_result",
          "data": {
            "text/html": [
              "<div>\n",
              "<style scoped>\n",
              "    .dataframe tbody tr th:only-of-type {\n",
              "        vertical-align: middle;\n",
              "    }\n",
              "\n",
              "    .dataframe tbody tr th {\n",
              "        vertical-align: top;\n",
              "    }\n",
              "\n",
              "    .dataframe thead th {\n",
              "        text-align: right;\n",
              "    }\n",
              "</style>\n",
              "<table border=\"1\" class=\"dataframe\">\n",
              "  <thead>\n",
              "    <tr style=\"text-align: right;\">\n",
              "      <th></th>\n",
              "      <th>loss</th>\n",
              "      <th>accuracy</th>\n",
              "      <th>val_loss</th>\n",
              "      <th>val_accuracy</th>\n",
              "      <th>epoch</th>\n",
              "    </tr>\n",
              "  </thead>\n",
              "  <tbody>\n",
              "    <tr>\n",
              "      <th>0</th>\n",
              "      <td>0.731811</td>\n",
              "      <td>0.743381</td>\n",
              "      <td>0.703640</td>\n",
              "      <td>0.715447</td>\n",
              "      <td>0</td>\n",
              "    </tr>\n",
              "    <tr>\n",
              "      <th>1</th>\n",
              "      <td>0.621511</td>\n",
              "      <td>0.788187</td>\n",
              "      <td>0.657594</td>\n",
              "      <td>0.699187</td>\n",
              "      <td>1</td>\n",
              "    </tr>\n",
              "    <tr>\n",
              "      <th>2</th>\n",
              "      <td>0.583420</td>\n",
              "      <td>0.790224</td>\n",
              "      <td>0.645525</td>\n",
              "      <td>0.707317</td>\n",
              "      <td>2</td>\n",
              "    </tr>\n",
              "    <tr>\n",
              "      <th>3</th>\n",
              "      <td>0.560528</td>\n",
              "      <td>0.792261</td>\n",
              "      <td>0.639138</td>\n",
              "      <td>0.707317</td>\n",
              "      <td>3</td>\n",
              "    </tr>\n",
              "    <tr>\n",
              "      <th>4</th>\n",
              "      <td>0.543628</td>\n",
              "      <td>0.782077</td>\n",
              "      <td>0.633578</td>\n",
              "      <td>0.699187</td>\n",
              "      <td>4</td>\n",
              "    </tr>\n",
              "    <tr>\n",
              "      <th>...</th>\n",
              "      <td>...</td>\n",
              "      <td>...</td>\n",
              "      <td>...</td>\n",
              "      <td>...</td>\n",
              "      <td>...</td>\n",
              "    </tr>\n",
              "    <tr>\n",
              "      <th>95</th>\n",
              "      <td>0.387718</td>\n",
              "      <td>0.851324</td>\n",
              "      <td>0.569039</td>\n",
              "      <td>0.715447</td>\n",
              "      <td>95</td>\n",
              "    </tr>\n",
              "    <tr>\n",
              "      <th>96</th>\n",
              "      <td>0.386579</td>\n",
              "      <td>0.851324</td>\n",
              "      <td>0.560152</td>\n",
              "      <td>0.715447</td>\n",
              "      <td>96</td>\n",
              "    </tr>\n",
              "    <tr>\n",
              "      <th>97</th>\n",
              "      <td>0.387003</td>\n",
              "      <td>0.847251</td>\n",
              "      <td>0.553961</td>\n",
              "      <td>0.715447</td>\n",
              "      <td>97</td>\n",
              "    </tr>\n",
              "    <tr>\n",
              "      <th>98</th>\n",
              "      <td>0.386275</td>\n",
              "      <td>0.843177</td>\n",
              "      <td>0.565003</td>\n",
              "      <td>0.715447</td>\n",
              "      <td>98</td>\n",
              "    </tr>\n",
              "    <tr>\n",
              "      <th>99</th>\n",
              "      <td>0.385064</td>\n",
              "      <td>0.849287</td>\n",
              "      <td>0.562041</td>\n",
              "      <td>0.731707</td>\n",
              "      <td>99</td>\n",
              "    </tr>\n",
              "  </tbody>\n",
              "</table>\n",
              "<p>100 rows × 5 columns</p>\n",
              "</div>"
            ],
            "text/plain": [
              "       loss  accuracy  val_loss  val_accuracy  epoch\n",
              "0  0.731811  0.743381  0.703640      0.715447      0\n",
              "1  0.621511  0.788187  0.657594      0.699187      1\n",
              "2  0.583420  0.790224  0.645525      0.707317      2\n",
              "3  0.560528  0.792261  0.639138      0.707317      3\n",
              "4  0.543628  0.782077  0.633578      0.699187      4\n",
              "..      ...       ...       ...           ...    ...\n",
              "95 0.387718  0.851324  0.569039      0.715447     95\n",
              "96 0.386579  0.851324  0.560152      0.715447     96\n",
              "97 0.387003  0.847251  0.553961      0.715447     97\n",
              "98 0.386275  0.843177  0.565003      0.715447     98\n",
              "99 0.385064  0.849287  0.562041      0.731707     99\n",
              "\n",
              "[100 rows x 5 columns]"
            ]
          },
          "metadata": {
            "tags": []
          },
          "execution_count": 27
        }
      ]
    },
    {
      "cell_type": "markdown",
      "metadata": {
        "id": "47JM1N72WLKu",
        "colab_type": "text"
      },
      "source": [
        "At first I used 22 epochs and the batch size smaller than 15. Unfortunately the val_loss during training was too large a value and the accuracy too small. Both these attributes contribute to a bad model.\n",
        "\n",
        "To train a good model it is important to make sure that the loss (incl. val_loss) is as small as possible, and accuracy (incl. val_accuracy) is as large as large as possible. It is also important that the difference between accuracy and val_accuracy is minimal, as if the accuracy is high but the val_accuracy is low, it leads to an overfitted model.\n",
        "\n",
        "A value of 100 epochs and a batch size of 32 was ultimately chosen to train the model as the increased number of epochs helped optimise the model training."
      ]
    },
    {
      "cell_type": "code",
      "metadata": {
        "id": "wBfNvfgsxzhR",
        "colab_type": "code",
        "colab": {
          "base_uri": "https://localhost:8080/",
          "height": 542
        },
        "outputId": "ed7a9867-36c1-4bca-d876-a1eef62d413d"
      },
      "source": [
        "import plotly.graph_objects as go\n",
        "from plotly.subplots import make_subplots\n",
        "\n",
        "fig = make_subplots(rows=1, cols=2)\n",
        "fig.add_trace(go.Scatter(x=metrics['epoch'], y=metrics['accuracy'], name='accuracy'), row=1, col=1)\n",
        "fig.add_trace(go.Scatter(x=metrics['epoch'], y=metrics['loss'], name='loss'), row=1, col=2)\n",
        "fig.add_trace(go.Scatter(x=metrics['epoch'], y=metrics['val_accuracy'], name='val_accuracy'), row=1, col=1)\n",
        "fig.add_trace(go.Scatter(x=metrics['epoch'], y=metrics['val_loss'], name='val_loss'), row=1, col=2)\n",
        "\n",
        "fig.update_xaxes(title_text='epochs')\n",
        "fig.update_yaxes(title_text='accuracy')\n",
        "fig.update_layout(width=1000, title='Accuracy and Loss')\n",
        "fig.show()"
      ],
      "execution_count": 28,
      "outputs": [
        {
          "output_type": "display_data",
          "data": {
            "text/html": [
              "<html>\n",
              "<head><meta charset=\"utf-8\" /></head>\n",
              "<body>\n",
              "    <div>\n",
              "            <script src=\"https://cdnjs.cloudflare.com/ajax/libs/mathjax/2.7.5/MathJax.js?config=TeX-AMS-MML_SVG\"></script><script type=\"text/javascript\">if (window.MathJax) {MathJax.Hub.Config({SVG: {font: \"STIX-Web\"}});}</script>\n",
              "                <script type=\"text/javascript\">window.PlotlyConfig = {MathJaxConfig: 'local'};</script>\n",
              "        <script src=\"https://cdn.plot.ly/plotly-latest.min.js\"></script>    \n",
              "            <div id=\"5c815e9a-5392-485f-98fa-ffa63a6ed118\" class=\"plotly-graph-div\" style=\"height:525px; width:1000px;\"></div>\n",
              "            <script type=\"text/javascript\">\n",
              "                \n",
              "                    window.PLOTLYENV=window.PLOTLYENV || {};\n",
              "                    \n",
              "                if (document.getElementById(\"5c815e9a-5392-485f-98fa-ffa63a6ed118\")) {\n",
              "                    Plotly.newPlot(\n",
              "                        '5c815e9a-5392-485f-98fa-ffa63a6ed118',\n",
              "                        [{\"name\": \"accuracy\", \"type\": \"scatter\", \"x\": [0, 1, 2, 3, 4, 5, 6, 7, 8, 9, 10, 11, 12, 13, 14, 15, 16, 17, 18, 19, 20, 21, 22, 23, 24, 25, 26, 27, 28, 29, 30, 31, 32, 33, 34, 35, 36, 37, 38, 39, 40, 41, 42, 43, 44, 45, 46, 47, 48, 49, 50, 51, 52, 53, 54, 55, 56, 57, 58, 59, 60, 61, 62, 63, 64, 65, 66, 67, 68, 69, 70, 71, 72, 73, 74, 75, 76, 77, 78, 79, 80, 81, 82, 83, 84, 85, 86, 87, 88, 89, 90, 91, 92, 93, 94, 95, 96, 97, 98, 99], \"xaxis\": \"x\", \"y\": [0.7433808445930481, 0.7881873846054077, 0.790224015712738, 0.7922607064247131, 0.7820773720741272, 0.7922607064247131, 0.7922607064247131, 0.7963340282440186, 0.8044806718826294, 0.8065173029899597, 0.8065173029899597, 0.8126273155212402, 0.8126273155212402, 0.8085539937019348, 0.8065173029899597, 0.8085539937019348, 0.8126273155212402, 0.8146639466285706, 0.8167006373405457, 0.8146639466285706, 0.8126273155212402, 0.8146639466285706, 0.8207739591598511, 0.818737268447876, 0.8207739591598511, 0.8207739591598511, 0.8207739591598511, 0.8248472213745117, 0.8248472213745117, 0.818737268447876, 0.8228105902671814, 0.8248472213745117, 0.818737268447876, 0.8248472213745117, 0.8207739591598511, 0.8289205431938171, 0.8289205431938171, 0.8268839120864868, 0.8329938650131226, 0.8207739591598511, 0.8207739591598511, 0.8248472213745117, 0.8350305557250977, 0.8289205431938171, 0.8268839120864868, 0.8350305557250977, 0.8248472213745117, 0.8268839120864868, 0.8329938650131226, 0.8329938650131226, 0.837067186832428, 0.8391038775444031, 0.8350305557250977, 0.8391038775444031, 0.837067186832428, 0.8309572339057922, 0.8309572339057922, 0.8391038775444031, 0.8248472213745117, 0.837067186832428, 0.8411405086517334, 0.8329938650131226, 0.8350305557250977, 0.8350305557250977, 0.8411405086517334, 0.8350305557250977, 0.8411405086517334, 0.8391038775444031, 0.837067186832428, 0.8452138304710388, 0.8472505211830139, 0.8452138304710388, 0.8391038775444031, 0.8431771993637085, 0.8431771993637085, 0.8411405086517334, 0.8431771993637085, 0.8472505211830139, 0.837067186832428, 0.8492871522903442, 0.8472505211830139, 0.8452138304710388, 0.8452138304710388, 0.8492871522903442, 0.8411405086517334, 0.8350305557250977, 0.8391038775444031, 0.837067186832428, 0.8391038775444031, 0.8431771993637085, 0.8472505211830139, 0.8391038775444031, 0.8492871522903442, 0.8472505211830139, 0.8452138304710388, 0.8513238430023193, 0.8513238430023193, 0.8472505211830139, 0.8431771993637085, 0.8492871522903442], \"yaxis\": \"y\"}, {\"name\": \"loss\", \"type\": \"scatter\", \"x\": [0, 1, 2, 3, 4, 5, 6, 7, 8, 9, 10, 11, 12, 13, 14, 15, 16, 17, 18, 19, 20, 21, 22, 23, 24, 25, 26, 27, 28, 29, 30, 31, 32, 33, 34, 35, 36, 37, 38, 39, 40, 41, 42, 43, 44, 45, 46, 47, 48, 49, 50, 51, 52, 53, 54, 55, 56, 57, 58, 59, 60, 61, 62, 63, 64, 65, 66, 67, 68, 69, 70, 71, 72, 73, 74, 75, 76, 77, 78, 79, 80, 81, 82, 83, 84, 85, 86, 87, 88, 89, 90, 91, 92, 93, 94, 95, 96, 97, 98, 99], \"xaxis\": \"x2\", \"y\": [0.7318111658096313, 0.6215106248855591, 0.5834203958511353, 0.5605280995368958, 0.543628454208374, 0.5286967158317566, 0.5158312320709229, 0.5060027837753296, 0.4972001910209656, 0.4896376132965088, 0.48243212699890137, 0.47690385580062866, 0.4703076183795929, 0.46774646639823914, 0.4633537828922272, 0.45877590775489807, 0.4562426507472992, 0.4524560272693634, 0.44982388615608215, 0.4471530318260193, 0.4450191557407379, 0.4437822997570038, 0.4411923587322235, 0.43866288661956787, 0.43564292788505554, 0.4361799657344818, 0.4336560070514679, 0.43140748143196106, 0.43152114748954773, 0.43218860030174255, 0.42852407693862915, 0.4280183017253876, 0.42503276467323303, 0.424476683139801, 0.42265039682388306, 0.42395296692848206, 0.42319929599761963, 0.4212169647216797, 0.4204224646091461, 0.4181033968925476, 0.4194188714027405, 0.41932955384254456, 0.41558972001075745, 0.4172002375125885, 0.41622403264045715, 0.4142768681049347, 0.4149576425552368, 0.41453084349632263, 0.4137569069862366, 0.413573294878006, 0.41225430369377136, 0.41064512729644775, 0.4101874530315399, 0.4100817143917084, 0.4101741313934326, 0.4077746272087097, 0.40880492329597473, 0.4079519808292389, 0.4079138934612274, 0.40519872307777405, 0.40425002574920654, 0.40621721744537354, 0.4073757827281952, 0.4066407382488251, 0.4012014865875244, 0.40553155541419983, 0.4037741720676422, 0.4027135670185089, 0.40271297097206116, 0.40172573924064636, 0.3993789553642273, 0.400012344121933, 0.40059205889701843, 0.400704562664032, 0.39771145582199097, 0.3994866609573364, 0.3973127603530884, 0.39716073870658875, 0.3957040011882782, 0.3948204517364502, 0.39959558844566345, 0.39550071954727173, 0.39414799213409424, 0.3951631784439087, 0.3946678042411804, 0.39388617873191833, 0.39261019229888916, 0.39187100529670715, 0.39458727836608887, 0.39349955320358276, 0.39106231927871704, 0.3915787637233734, 0.3899034559726715, 0.3874850571155548, 0.39232173562049866, 0.38771775364875793, 0.386579304933548, 0.387003093957901, 0.38627520203590393, 0.3850635290145874], \"yaxis\": \"y2\"}, {\"name\": \"val_accuracy\", \"type\": \"scatter\", \"x\": [0, 1, 2, 3, 4, 5, 6, 7, 8, 9, 10, 11, 12, 13, 14, 15, 16, 17, 18, 19, 20, 21, 22, 23, 24, 25, 26, 27, 28, 29, 30, 31, 32, 33, 34, 35, 36, 37, 38, 39, 40, 41, 42, 43, 44, 45, 46, 47, 48, 49, 50, 51, 52, 53, 54, 55, 56, 57, 58, 59, 60, 61, 62, 63, 64, 65, 66, 67, 68, 69, 70, 71, 72, 73, 74, 75, 76, 77, 78, 79, 80, 81, 82, 83, 84, 85, 86, 87, 88, 89, 90, 91, 92, 93, 94, 95, 96, 97, 98, 99], \"xaxis\": \"x\", \"y\": [0.7154471278190613, 0.6991869807243347, 0.707317054271698, 0.707317054271698, 0.6991869807243347, 0.707317054271698, 0.7154471278190613, 0.707317054271698, 0.7154471278190613, 0.707317054271698, 0.7154471278190613, 0.7154471278190613, 0.707317054271698, 0.6991869807243347, 0.707317054271698, 0.7235772609710693, 0.7235772609710693, 0.7154471278190613, 0.707317054271698, 0.6991869807243347, 0.7317073345184326, 0.7154471278190613, 0.7154471278190613, 0.707317054271698, 0.7317073345184326, 0.707317054271698, 0.707317054271698, 0.7317073345184326, 0.7154471278190613, 0.7235772609710693, 0.7154471278190613, 0.7317073345184326, 0.707317054271698, 0.7317073345184326, 0.7235772609710693, 0.707317054271698, 0.7235772609710693, 0.7154471278190613, 0.7235772609710693, 0.707317054271698, 0.7235772609710693, 0.7317073345184326, 0.707317054271698, 0.707317054271698, 0.707317054271698, 0.7235772609710693, 0.707317054271698, 0.707317054271698, 0.7317073345184326, 0.7235772609710693, 0.7235772609710693, 0.7154471278190613, 0.707317054271698, 0.7235772609710693, 0.7154471278190613, 0.707317054271698, 0.7317073345184326, 0.7317073345184326, 0.7154471278190613, 0.7235772609710693, 0.7317073345184326, 0.7235772609710693, 0.6991869807243347, 0.707317054271698, 0.707317054271698, 0.7317073345184326, 0.707317054271698, 0.7235772609710693, 0.7154471278190613, 0.6991869807243347, 0.707317054271698, 0.7154471278190613, 0.7154471278190613, 0.7317073345184326, 0.7317073345184326, 0.7154471278190613, 0.707317054271698, 0.7154471278190613, 0.7235772609710693, 0.707317054271698, 0.7235772609710693, 0.7235772609710693, 0.7235772609710693, 0.7154471278190613, 0.6991869807243347, 0.7154471278190613, 0.707317054271698, 0.7154471278190613, 0.7154471278190613, 0.7154471278190613, 0.7154471278190613, 0.7235772609710693, 0.7154471278190613, 0.7235772609710693, 0.7154471278190613, 0.7154471278190613, 0.7154471278190613, 0.7154471278190613, 0.7154471278190613, 0.7317073345184326], \"yaxis\": \"y\"}, {\"name\": \"val_loss\", \"type\": \"scatter\", \"x\": [0, 1, 2, 3, 4, 5, 6, 7, 8, 9, 10, 11, 12, 13, 14, 15, 16, 17, 18, 19, 20, 21, 22, 23, 24, 25, 26, 27, 28, 29, 30, 31, 32, 33, 34, 35, 36, 37, 38, 39, 40, 41, 42, 43, 44, 45, 46, 47, 48, 49, 50, 51, 52, 53, 54, 55, 56, 57, 58, 59, 60, 61, 62, 63, 64, 65, 66, 67, 68, 69, 70, 71, 72, 73, 74, 75, 76, 77, 78, 79, 80, 81, 82, 83, 84, 85, 86, 87, 88, 89, 90, 91, 92, 93, 94, 95, 96, 97, 98, 99], \"xaxis\": \"x2\", \"y\": [0.7036399245262146, 0.6575941443443298, 0.645524799823761, 0.6391378045082092, 0.633577823638916, 0.6294249296188354, 0.6199173331260681, 0.6123046875, 0.6118218302726746, 0.6073571443557739, 0.6008487939834595, 0.5932674407958984, 0.5917173624038696, 0.58965003490448, 0.5892170667648315, 0.5875325798988342, 0.584383487701416, 0.5819472074508667, 0.5821027159690857, 0.5721951723098755, 0.5718060731887817, 0.5713964104652405, 0.572134256362915, 0.5690252780914307, 0.569218099117279, 0.5673488974571228, 0.5700122714042664, 0.558992326259613, 0.5596962571144104, 0.5726494789123535, 0.5632815957069397, 0.5639426708221436, 0.5642001628875732, 0.5674889087677002, 0.5597543716430664, 0.5571252107620239, 0.5623523592948914, 0.5621883869171143, 0.561630368232727, 0.5582562685012817, 0.5587633848190308, 0.5666394829750061, 0.5523466467857361, 0.5515124797821045, 0.5486143231391907, 0.5547288060188293, 0.5558164119720459, 0.5517284274101257, 0.5678063631057739, 0.5434141755104065, 0.5509027242660522, 0.5570757985115051, 0.552374541759491, 0.5510876178741455, 0.5556618571281433, 0.5552617311477661, 0.5586886405944824, 0.5524876713752747, 0.560219407081604, 0.5547291040420532, 0.546657919883728, 0.55284184217453, 0.556445837020874, 0.5569508671760559, 0.552803635597229, 0.5513169765472412, 0.5597800612449646, 0.5528616905212402, 0.5541272163391113, 0.5555568933486938, 0.557858943939209, 0.5530638098716736, 0.5686069130897522, 0.5583550930023193, 0.5494869351387024, 0.5530853271484375, 0.5582600831985474, 0.5584690570831299, 0.5534685850143433, 0.5530228614807129, 0.5593917369842529, 0.5670320987701416, 0.5505068302154541, 0.5618105530738831, 0.5575062036514282, 0.5647021532058716, 0.5584458112716675, 0.5621154308319092, 0.5637250542640686, 0.5595922470092773, 0.5687961578369141, 0.5584002137184143, 0.5598644614219666, 0.561991274356842, 0.5552353262901306, 0.5690392851829529, 0.5601516962051392, 0.5539612174034119, 0.5650030374526978, 0.5620411038398743], \"yaxis\": \"y2\"}],\n",
              "                        {\"template\": {\"data\": {\"bar\": [{\"error_x\": {\"color\": \"#2a3f5f\"}, \"error_y\": {\"color\": \"#2a3f5f\"}, \"marker\": {\"line\": {\"color\": \"#E5ECF6\", \"width\": 0.5}}, \"type\": \"bar\"}], \"barpolar\": [{\"marker\": {\"line\": {\"color\": \"#E5ECF6\", \"width\": 0.5}}, \"type\": \"barpolar\"}], \"carpet\": [{\"aaxis\": {\"endlinecolor\": \"#2a3f5f\", \"gridcolor\": \"white\", \"linecolor\": \"white\", \"minorgridcolor\": \"white\", \"startlinecolor\": \"#2a3f5f\"}, \"baxis\": {\"endlinecolor\": \"#2a3f5f\", \"gridcolor\": \"white\", \"linecolor\": \"white\", \"minorgridcolor\": \"white\", \"startlinecolor\": \"#2a3f5f\"}, \"type\": \"carpet\"}], \"choropleth\": [{\"colorbar\": {\"outlinewidth\": 0, \"ticks\": \"\"}, \"type\": \"choropleth\"}], \"contour\": [{\"colorbar\": {\"outlinewidth\": 0, \"ticks\": \"\"}, \"colorscale\": [[0.0, \"#0d0887\"], [0.1111111111111111, \"#46039f\"], [0.2222222222222222, \"#7201a8\"], [0.3333333333333333, \"#9c179e\"], [0.4444444444444444, \"#bd3786\"], [0.5555555555555556, \"#d8576b\"], [0.6666666666666666, \"#ed7953\"], [0.7777777777777778, \"#fb9f3a\"], [0.8888888888888888, \"#fdca26\"], [1.0, \"#f0f921\"]], \"type\": \"contour\"}], \"contourcarpet\": [{\"colorbar\": {\"outlinewidth\": 0, \"ticks\": \"\"}, \"type\": \"contourcarpet\"}], \"heatmap\": [{\"colorbar\": {\"outlinewidth\": 0, \"ticks\": \"\"}, \"colorscale\": [[0.0, \"#0d0887\"], [0.1111111111111111, \"#46039f\"], [0.2222222222222222, \"#7201a8\"], [0.3333333333333333, \"#9c179e\"], [0.4444444444444444, \"#bd3786\"], [0.5555555555555556, \"#d8576b\"], [0.6666666666666666, \"#ed7953\"], [0.7777777777777778, \"#fb9f3a\"], [0.8888888888888888, \"#fdca26\"], [1.0, \"#f0f921\"]], \"type\": \"heatmap\"}], \"heatmapgl\": [{\"colorbar\": {\"outlinewidth\": 0, \"ticks\": \"\"}, \"colorscale\": [[0.0, \"#0d0887\"], [0.1111111111111111, \"#46039f\"], [0.2222222222222222, \"#7201a8\"], [0.3333333333333333, \"#9c179e\"], [0.4444444444444444, \"#bd3786\"], [0.5555555555555556, \"#d8576b\"], [0.6666666666666666, \"#ed7953\"], [0.7777777777777778, \"#fb9f3a\"], [0.8888888888888888, \"#fdca26\"], [1.0, \"#f0f921\"]], \"type\": \"heatmapgl\"}], \"histogram\": [{\"marker\": {\"colorbar\": {\"outlinewidth\": 0, \"ticks\": \"\"}}, \"type\": \"histogram\"}], \"histogram2d\": [{\"colorbar\": {\"outlinewidth\": 0, \"ticks\": \"\"}, \"colorscale\": [[0.0, \"#0d0887\"], [0.1111111111111111, \"#46039f\"], [0.2222222222222222, \"#7201a8\"], [0.3333333333333333, \"#9c179e\"], [0.4444444444444444, \"#bd3786\"], [0.5555555555555556, \"#d8576b\"], [0.6666666666666666, \"#ed7953\"], [0.7777777777777778, \"#fb9f3a\"], [0.8888888888888888, \"#fdca26\"], [1.0, \"#f0f921\"]], \"type\": \"histogram2d\"}], \"histogram2dcontour\": [{\"colorbar\": {\"outlinewidth\": 0, \"ticks\": \"\"}, \"colorscale\": [[0.0, \"#0d0887\"], [0.1111111111111111, \"#46039f\"], [0.2222222222222222, \"#7201a8\"], [0.3333333333333333, \"#9c179e\"], [0.4444444444444444, \"#bd3786\"], [0.5555555555555556, \"#d8576b\"], [0.6666666666666666, \"#ed7953\"], [0.7777777777777778, \"#fb9f3a\"], [0.8888888888888888, \"#fdca26\"], [1.0, \"#f0f921\"]], \"type\": \"histogram2dcontour\"}], \"mesh3d\": [{\"colorbar\": {\"outlinewidth\": 0, \"ticks\": \"\"}, \"type\": \"mesh3d\"}], \"parcoords\": [{\"line\": {\"colorbar\": {\"outlinewidth\": 0, \"ticks\": \"\"}}, \"type\": \"parcoords\"}], \"pie\": [{\"automargin\": true, \"type\": \"pie\"}], \"scatter\": [{\"marker\": {\"colorbar\": {\"outlinewidth\": 0, \"ticks\": \"\"}}, \"type\": \"scatter\"}], \"scatter3d\": [{\"line\": {\"colorbar\": {\"outlinewidth\": 0, \"ticks\": \"\"}}, \"marker\": {\"colorbar\": {\"outlinewidth\": 0, \"ticks\": \"\"}}, \"type\": \"scatter3d\"}], \"scattercarpet\": [{\"marker\": {\"colorbar\": {\"outlinewidth\": 0, \"ticks\": \"\"}}, \"type\": \"scattercarpet\"}], \"scattergeo\": [{\"marker\": {\"colorbar\": {\"outlinewidth\": 0, \"ticks\": \"\"}}, \"type\": \"scattergeo\"}], \"scattergl\": [{\"marker\": {\"colorbar\": {\"outlinewidth\": 0, \"ticks\": \"\"}}, \"type\": \"scattergl\"}], \"scattermapbox\": [{\"marker\": {\"colorbar\": {\"outlinewidth\": 0, \"ticks\": \"\"}}, \"type\": \"scattermapbox\"}], \"scatterpolar\": [{\"marker\": {\"colorbar\": {\"outlinewidth\": 0, \"ticks\": \"\"}}, \"type\": \"scatterpolar\"}], \"scatterpolargl\": [{\"marker\": {\"colorbar\": {\"outlinewidth\": 0, \"ticks\": \"\"}}, \"type\": \"scatterpolargl\"}], \"scatterternary\": [{\"marker\": {\"colorbar\": {\"outlinewidth\": 0, \"ticks\": \"\"}}, \"type\": \"scatterternary\"}], \"surface\": [{\"colorbar\": {\"outlinewidth\": 0, \"ticks\": \"\"}, \"colorscale\": [[0.0, \"#0d0887\"], [0.1111111111111111, \"#46039f\"], [0.2222222222222222, \"#7201a8\"], [0.3333333333333333, \"#9c179e\"], [0.4444444444444444, \"#bd3786\"], [0.5555555555555556, \"#d8576b\"], [0.6666666666666666, \"#ed7953\"], [0.7777777777777778, \"#fb9f3a\"], [0.8888888888888888, \"#fdca26\"], [1.0, \"#f0f921\"]], \"type\": \"surface\"}], \"table\": [{\"cells\": {\"fill\": {\"color\": \"#EBF0F8\"}, \"line\": {\"color\": \"white\"}}, \"header\": {\"fill\": {\"color\": \"#C8D4E3\"}, \"line\": {\"color\": \"white\"}}, \"type\": \"table\"}]}, \"layout\": {\"annotationdefaults\": {\"arrowcolor\": \"#2a3f5f\", \"arrowhead\": 0, \"arrowwidth\": 1}, \"coloraxis\": {\"colorbar\": {\"outlinewidth\": 0, \"ticks\": \"\"}}, \"colorscale\": {\"diverging\": [[0, \"#8e0152\"], [0.1, \"#c51b7d\"], [0.2, \"#de77ae\"], [0.3, \"#f1b6da\"], [0.4, \"#fde0ef\"], [0.5, \"#f7f7f7\"], [0.6, \"#e6f5d0\"], [0.7, \"#b8e186\"], [0.8, \"#7fbc41\"], [0.9, \"#4d9221\"], [1, \"#276419\"]], \"sequential\": [[0.0, \"#0d0887\"], [0.1111111111111111, \"#46039f\"], [0.2222222222222222, \"#7201a8\"], [0.3333333333333333, \"#9c179e\"], [0.4444444444444444, \"#bd3786\"], [0.5555555555555556, \"#d8576b\"], [0.6666666666666666, \"#ed7953\"], [0.7777777777777778, \"#fb9f3a\"], [0.8888888888888888, \"#fdca26\"], [1.0, \"#f0f921\"]], \"sequentialminus\": [[0.0, \"#0d0887\"], [0.1111111111111111, \"#46039f\"], [0.2222222222222222, \"#7201a8\"], [0.3333333333333333, \"#9c179e\"], [0.4444444444444444, \"#bd3786\"], [0.5555555555555556, \"#d8576b\"], [0.6666666666666666, \"#ed7953\"], [0.7777777777777778, \"#fb9f3a\"], [0.8888888888888888, \"#fdca26\"], [1.0, \"#f0f921\"]]}, \"colorway\": [\"#636efa\", \"#EF553B\", \"#00cc96\", \"#ab63fa\", \"#FFA15A\", \"#19d3f3\", \"#FF6692\", \"#B6E880\", \"#FF97FF\", \"#FECB52\"], \"font\": {\"color\": \"#2a3f5f\"}, \"geo\": {\"bgcolor\": \"white\", \"lakecolor\": \"white\", \"landcolor\": \"#E5ECF6\", \"showlakes\": true, \"showland\": true, \"subunitcolor\": \"white\"}, \"hoverlabel\": {\"align\": \"left\"}, \"hovermode\": \"closest\", \"mapbox\": {\"style\": \"light\"}, \"paper_bgcolor\": \"white\", \"plot_bgcolor\": \"#E5ECF6\", \"polar\": {\"angularaxis\": {\"gridcolor\": \"white\", \"linecolor\": \"white\", \"ticks\": \"\"}, \"bgcolor\": \"#E5ECF6\", \"radialaxis\": {\"gridcolor\": \"white\", \"linecolor\": \"white\", \"ticks\": \"\"}}, \"scene\": {\"xaxis\": {\"backgroundcolor\": \"#E5ECF6\", \"gridcolor\": \"white\", \"gridwidth\": 2, \"linecolor\": \"white\", \"showbackground\": true, \"ticks\": \"\", \"zerolinecolor\": \"white\"}, \"yaxis\": {\"backgroundcolor\": \"#E5ECF6\", \"gridcolor\": \"white\", \"gridwidth\": 2, \"linecolor\": \"white\", \"showbackground\": true, \"ticks\": \"\", \"zerolinecolor\": \"white\"}, \"zaxis\": {\"backgroundcolor\": \"#E5ECF6\", \"gridcolor\": \"white\", \"gridwidth\": 2, \"linecolor\": \"white\", \"showbackground\": true, \"ticks\": \"\", \"zerolinecolor\": \"white\"}}, \"shapedefaults\": {\"line\": {\"color\": \"#2a3f5f\"}}, \"ternary\": {\"aaxis\": {\"gridcolor\": \"white\", \"linecolor\": \"white\", \"ticks\": \"\"}, \"baxis\": {\"gridcolor\": \"white\", \"linecolor\": \"white\", \"ticks\": \"\"}, \"bgcolor\": \"#E5ECF6\", \"caxis\": {\"gridcolor\": \"white\", \"linecolor\": \"white\", \"ticks\": \"\"}}, \"title\": {\"x\": 0.05}, \"xaxis\": {\"automargin\": true, \"gridcolor\": \"white\", \"linecolor\": \"white\", \"ticks\": \"\", \"title\": {\"standoff\": 15}, \"zerolinecolor\": \"white\", \"zerolinewidth\": 2}, \"yaxis\": {\"automargin\": true, \"gridcolor\": \"white\", \"linecolor\": \"white\", \"ticks\": \"\", \"title\": {\"standoff\": 15}, \"zerolinecolor\": \"white\", \"zerolinewidth\": 2}}}, \"title\": {\"text\": \"Accuracy and Loss\"}, \"width\": 1000, \"xaxis\": {\"anchor\": \"y\", \"domain\": [0.0, 0.45], \"title\": {\"text\": \"epochs\"}}, \"xaxis2\": {\"anchor\": \"y2\", \"domain\": [0.55, 1.0], \"title\": {\"text\": \"epochs\"}}, \"yaxis\": {\"anchor\": \"x\", \"domain\": [0.0, 1.0], \"title\": {\"text\": \"accuracy\"}}, \"yaxis2\": {\"anchor\": \"x2\", \"domain\": [0.0, 1.0], \"title\": {\"text\": \"accuracy\"}}},\n",
              "                        {\"responsive\": true}\n",
              "                    ).then(function(){\n",
              "                            \n",
              "var gd = document.getElementById('5c815e9a-5392-485f-98fa-ffa63a6ed118');\n",
              "var x = new MutationObserver(function (mutations, observer) {{\n",
              "        var display = window.getComputedStyle(gd).display;\n",
              "        if (!display || display === 'none') {{\n",
              "            console.log([gd, 'removed!']);\n",
              "            Plotly.purge(gd);\n",
              "            observer.disconnect();\n",
              "        }}\n",
              "}});\n",
              "\n",
              "// Listen for the removal of the full notebook cells\n",
              "var notebookContainer = gd.closest('#notebook-container');\n",
              "if (notebookContainer) {{\n",
              "    x.observe(notebookContainer, {childList: true});\n",
              "}}\n",
              "\n",
              "// Listen for the clearing of the current output cell\n",
              "var outputEl = gd.closest('.output');\n",
              "if (outputEl) {{\n",
              "    x.observe(outputEl, {childList: true});\n",
              "}}\n",
              "\n",
              "                        })\n",
              "                };\n",
              "                \n",
              "            </script>\n",
              "        </div>\n",
              "</body>\n",
              "</html>"
            ]
          },
          "metadata": {
            "tags": []
          }
        }
      ]
    },
    {
      "cell_type": "markdown",
      "metadata": {
        "id": "6I2e-WltSquE",
        "colab_type": "text"
      },
      "source": [
        "The figures show a small difference between accuracy and val_accuracy as well as a relatively low val_loss (around 0.5 when originally the value was >1)."
      ]
    },
    {
      "cell_type": "markdown",
      "metadata": {
        "id": "QCySf63bSww5",
        "colab_type": "text"
      },
      "source": [
        "--------------------------------------------------------------------------------"
      ]
    },
    {
      "cell_type": "markdown",
      "metadata": {
        "id": "DFeV3pd6WScM",
        "colab_type": "text"
      },
      "source": [
        "**Validating the model**\n",
        "\n",
        "Inputting test data into the model, and comparing the output from the model to the true expected output in outcome\n",
        "\n",
        "Model outputs confidence levels on 2 nerons - 1) does not have diabetes (ie. 0), 2) has diabetes (ie. 1)\n",
        "\n",
        "Whichever neuron has a higher confidence level, that is the suggested output of the model (ie. if [0.9883427   , 0.011657268 ], then the model is 98% confident in outcome of neuron 1 - the subject does not have diabetes)\n",
        "\n",
        "Convert the confidence scores into a true or false output from the model to compare with true outcome data, and check the accuracy of the model on the test dataset"
      ]
    },
    {
      "cell_type": "code",
      "metadata": {
        "id": "u1R9JdXbJisp",
        "colab_type": "code",
        "colab": {}
      },
      "source": [
        "test_predictions = model.predict(normed_test_data)#.flatten()\n"
      ],
      "execution_count": 29,
      "outputs": []
    },
    {
      "cell_type": "code",
      "metadata": {
        "id": "vXqHhHo3HAId",
        "colab_type": "code",
        "colab": {
          "base_uri": "https://localhost:8080/",
          "height": 1000
        },
        "outputId": "a05d61fd-5297-44db-be5a-4f609f161b7d"
      },
      "source": [
        "test_predictions"
      ],
      "execution_count": 30,
      "outputs": [
        {
          "output_type": "execute_result",
          "data": {
            "text/plain": [
              "array([[0.988457     , 0.0115429275 ],\n",
              "       [0.06602439   , 0.9339756    ],\n",
              "       [0.76135004   , 0.23865001   ],\n",
              "       [0.78717923   , 0.21282074   ],\n",
              "       [0.7205367    , 0.27946332   ],\n",
              "       [0.9865587    , 0.013441241  ],\n",
              "       [0.25142956   , 0.7485704    ],\n",
              "       [0.19246839   , 0.80753165   ],\n",
              "       [0.9464123    , 0.053587645  ],\n",
              "       [0.1228005    , 0.87719953   ],\n",
              "       [0.9819671    , 0.018032862  ],\n",
              "       [0.07467404   , 0.92532593   ],\n",
              "       [0.5997707    , 0.40022925   ],\n",
              "       [0.37432992   , 0.6256701    ],\n",
              "       [0.8766296    , 0.123370364  ],\n",
              "       [0.2719116    , 0.72808844   ],\n",
              "       [0.9527334    , 0.047266655  ],\n",
              "       [0.6483325    , 0.35166746   ],\n",
              "       [0.25537136   , 0.74462867   ],\n",
              "       [0.7912027    , 0.20879732   ],\n",
              "       [0.90281177   , 0.09718826   ],\n",
              "       [0.78760993   , 0.21239012   ],\n",
              "       [0.89298224   , 0.10701779   ],\n",
              "       [0.28940275   , 0.7105973    ],\n",
              "       [0.86503655   , 0.13496341   ],\n",
              "       [0.6247966    , 0.37520334   ],\n",
              "       [0.65574443   , 0.34425554   ],\n",
              "       [0.9883829    , 0.0116170775 ],\n",
              "       [0.9298418    , 0.07015822   ],\n",
              "       [0.7152715    , 0.2847285    ],\n",
              "       [0.21354675   , 0.7864533    ],\n",
              "       [0.15419106   , 0.8458089    ],\n",
              "       [0.90080607   , 0.0991939    ],\n",
              "       [0.63516957   , 0.36483046   ],\n",
              "       [0.52986175   , 0.47013828   ],\n",
              "       [0.65262896   , 0.34737104   ],\n",
              "       [0.8452805    , 0.15471952   ],\n",
              "       [0.9360144    , 0.063985534  ],\n",
              "       [0.96477914   , 0.03522084   ],\n",
              "       [0.36460632   , 0.6353936    ],\n",
              "       [0.9766574    , 0.02334257   ],\n",
              "       [0.99961096   , 0.00038905087],\n",
              "       [0.9620781    , 0.03792194   ],\n",
              "       [0.48202786   , 0.5179722    ],\n",
              "       [0.1511418    , 0.8488581    ],\n",
              "       [0.9534394    , 0.046560522  ],\n",
              "       [0.42753184   , 0.5724682    ],\n",
              "       [0.99035573   , 0.009644286  ],\n",
              "       [0.18543589   , 0.81456417   ],\n",
              "       [0.9207009    , 0.07929913   ],\n",
              "       [0.14814807   , 0.8518519    ],\n",
              "       [0.51550806   , 0.484492     ],\n",
              "       [0.23076013   , 0.76923984   ],\n",
              "       [0.7446133    , 0.2553867    ],\n",
              "       [0.9555231    , 0.044476848  ],\n",
              "       [0.09116465   , 0.9088353    ],\n",
              "       [0.5873914    , 0.41260856   ],\n",
              "       [0.14633107   , 0.853669     ],\n",
              "       [0.9810116    , 0.018988356  ],\n",
              "       [0.71849895   , 0.28150105   ],\n",
              "       [0.98219115   , 0.017808886  ],\n",
              "       [0.2757796    , 0.7242204    ],\n",
              "       [0.12964949   , 0.87035054   ],\n",
              "       [0.9721147    , 0.027885346  ],\n",
              "       [0.86505884   , 0.13494112   ],\n",
              "       [0.35046083   , 0.64953923   ],\n",
              "       [0.6921937    , 0.30780637   ],\n",
              "       [0.79145676   , 0.20854324   ],\n",
              "       [0.9741402    , 0.025859736  ],\n",
              "       [0.35502675   , 0.6449733    ],\n",
              "       [0.9364404    , 0.063559584  ],\n",
              "       [0.24511781   , 0.7548821    ],\n",
              "       [0.9458072    , 0.054192755  ],\n",
              "       [0.9556375    , 0.044362508  ],\n",
              "       [0.21996976   , 0.7800303    ],\n",
              "       [0.09217001   , 0.90783      ],\n",
              "       [0.9930783    , 0.006921665  ],\n",
              "       [0.086078204  , 0.9139217    ],\n",
              "       [0.99126786   , 0.008732179  ],\n",
              "       [0.91659725   , 0.08340282   ],\n",
              "       [0.9461664    , 0.05383359   ],\n",
              "       [0.9498186    , 0.050181396  ],\n",
              "       [0.8681523    , 0.13184765   ],\n",
              "       [0.33096907   , 0.6690309    ],\n",
              "       [0.7496174    , 0.25038257   ],\n",
              "       [0.98814476   , 0.011855169  ],\n",
              "       [0.6448476    , 0.35515243   ],\n",
              "       [0.94351363   , 0.05648635   ],\n",
              "       [0.8968583    , 0.10314165   ],\n",
              "       [0.908566     , 0.09143398   ],\n",
              "       [0.9011262    , 0.09887381   ],\n",
              "       [0.9036485    , 0.09635144   ],\n",
              "       [0.6765135    , 0.32348648   ],\n",
              "       [0.9392908    , 0.06070919   ],\n",
              "       [0.996655     , 0.003345027  ],\n",
              "       [0.9566481    , 0.043351866  ],\n",
              "       [0.99370813   , 0.0062918155 ],\n",
              "       [0.80547655   , 0.19452347   ],\n",
              "       [0.78842145   , 0.21157856   ],\n",
              "       [0.9559963    , 0.044003755  ],\n",
              "       [0.89270246   , 0.10729754   ],\n",
              "       [0.97266215   , 0.027337868  ],\n",
              "       [0.33389187   , 0.6661082    ],\n",
              "       [0.9913516    , 0.00864838   ],\n",
              "       [0.97360885   , 0.026391104  ],\n",
              "       [0.9664157    , 0.03358426   ],\n",
              "       [0.9706205    , 0.0293795    ],\n",
              "       [0.9414923    , 0.05850764   ],\n",
              "       [0.9541321    , 0.0458679    ],\n",
              "       [0.65762204   , 0.342378     ],\n",
              "       [0.7315498    , 0.26845017   ],\n",
              "       [0.71010923   , 0.28989077   ],\n",
              "       [0.95984715   , 0.04015288   ],\n",
              "       [0.9741324    , 0.025867559  ],\n",
              "       [0.9081367    , 0.091863215  ],\n",
              "       [0.8908054    , 0.10919459   ],\n",
              "       [0.9852443    , 0.014755793  ],\n",
              "       [0.28964397   , 0.71035606   ],\n",
              "       [0.075137645  , 0.9248624    ],\n",
              "       [0.97512746   , 0.024872495  ],\n",
              "       [0.9726266    , 0.027373347  ],\n",
              "       [0.14757617   , 0.8524239    ],\n",
              "       [0.98978114   , 0.010218821  ],\n",
              "       [0.9544879    , 0.045512006  ],\n",
              "       [0.14410588   , 0.85589415   ],\n",
              "       [0.9971522    , 0.0028477055 ],\n",
              "       [0.9847112    , 0.0152888    ],\n",
              "       [0.9845105    , 0.015489588  ],\n",
              "       [0.993863     , 0.0061369785 ],\n",
              "       [0.7985522    , 0.2014478    ],\n",
              "       [0.57218564   , 0.4278144    ],\n",
              "       [0.85071075   , 0.14928925   ],\n",
              "       [0.15473866   , 0.8452613    ],\n",
              "       [0.042023733  , 0.9579762    ],\n",
              "       [0.9076919    , 0.09230807   ],\n",
              "       [0.994752     , 0.0052479818 ],\n",
              "       [0.9169323    , 0.08306774   ],\n",
              "       [0.8987769    , 0.10122316   ],\n",
              "       [0.938913     , 0.061087083  ],\n",
              "       [0.9271199    , 0.07288008   ],\n",
              "       [0.9332799    , 0.06672012   ],\n",
              "       [0.9092752    , 0.090724826  ],\n",
              "       [0.9347681    , 0.06523191   ],\n",
              "       [0.87541276   , 0.124587186  ],\n",
              "       [0.69475454   , 0.30524543   ],\n",
              "       [0.9420376    , 0.057962425  ],\n",
              "       [0.8083335    , 0.1916665    ],\n",
              "       [0.94943064   , 0.050569348  ],\n",
              "       [0.96501267   , 0.03498739   ],\n",
              "       [0.31677726   , 0.6832227    ],\n",
              "       [0.35058877   , 0.64941126   ],\n",
              "       [0.40435427   , 0.5956457    ],\n",
              "       [0.26187807   , 0.7381219    ],\n",
              "       [0.77945495   , 0.22054504   ]], dtype=float32)"
            ]
          },
          "metadata": {
            "tags": []
          },
          "execution_count": 30
        }
      ]
    },
    {
      "cell_type": "code",
      "metadata": {
        "id": "uwKWwjvQyksA",
        "colab_type": "code",
        "colab": {}
      },
      "source": [
        "test_predictions_final = []\n",
        "for entry in test_predictions:\n",
        "  if entry[0] > entry[1]:\n",
        "    test_predictions_final.append(0)\n",
        "  else:\n",
        "    test_predictions_final.append(1)\n",
        "\n",
        "#test_predictions_final"
      ],
      "execution_count": 31,
      "outputs": []
    },
    {
      "cell_type": "code",
      "metadata": {
        "id": "ni3QIW6_3QA6",
        "colab_type": "code",
        "colab": {}
      },
      "source": [
        "test_labels_numpy = test_labels.to_numpy()"
      ],
      "execution_count": 32,
      "outputs": []
    },
    {
      "cell_type": "code",
      "metadata": {
        "id": "-dFSb3yu2iIB",
        "colab_type": "code",
        "colab": {
          "base_uri": "https://localhost:8080/",
          "height": 36
        },
        "outputId": "b39a31af-d005-4ecf-c1a5-14965d0ed5ae"
      },
      "source": [
        "val_true = 0\n",
        "val_false = 0\n",
        "i = 0\n",
        "for entry in test_predictions_final:\n",
        "  if entry == test_labels_numpy[i]:\n",
        "    val_true = val_true + 1\n",
        "  else:\n",
        "    val_false = val_false + 1\n",
        "  i = i + 1\n",
        "\n",
        "accuracy = val_true/len(test_predictions_final)\n",
        "\n",
        "print(f' The model accuracy based on the test data is: {accuracy}' )"
      ],
      "execution_count": 41,
      "outputs": [
        {
          "output_type": "stream",
          "text": [
            " The model accuracy based on the test data is: 0.7857142857142857\n"
          ],
          "name": "stdout"
        }
      ]
    },
    {
      "cell_type": "code",
      "metadata": {
        "id": "aVEmUHeJEvpg",
        "colab_type": "code",
        "colab": {
          "base_uri": "https://localhost:8080/",
          "height": 241
        },
        "outputId": "cd519cc6-06da-4546-8583-be005de3ae5b"
      },
      "source": [
        "test_labels"
      ],
      "execution_count": 34,
      "outputs": [
        {
          "output_type": "execute_result",
          "data": {
            "text/plain": [
              "9      1\n",
              "11     1\n",
              "19     1\n",
              "23     1\n",
              "28     0\n",
              "      ..\n",
              "746    1\n",
              "753    1\n",
              "754    1\n",
              "759    1\n",
              "763    0\n",
              "Name: Outcome, Length: 154, dtype: int64"
            ]
          },
          "metadata": {
            "tags": []
          },
          "execution_count": 34
        }
      ]
    },
    {
      "cell_type": "code",
      "metadata": {
        "id": "1FRf3xaPJWWd",
        "colab_type": "code",
        "colab": {}
      },
      "source": [
        "from tensorflow.keras.callbacks import TensorBoard\n",
        "from datetime import datetime as dt\n",
        "\n",
        "!rm -rf ./logs\n",
        "log_dir = 'logs/fit/' + dt.now().strftime('%Y%m%d-%H%M%S')\n",
        "tensorboard = TensorBoard(log_dir=log_dir)"
      ],
      "execution_count": 37,
      "outputs": []
    },
    {
      "cell_type": "code",
      "metadata": {
        "id": "pk-Q3hEDJXgB",
        "colab_type": "code",
        "colab": {
          "base_uri": "https://localhost:8080/",
          "height": 1000
        },
        "outputId": "4bbba988-9945-4157-9a61-077b228cb065"
      },
      "source": [
        "model = build_model()\n",
        "history = model.fit(normed_train_data, train_labels.values, epochs=12, validation_split=0.2, verbose=1, batch_size=22,  callbacks=[tensorboard])\n",
        "%load_ext tensorboard\n",
        "!tensorboard dev upload --logdir logs\n"
      ],
      "execution_count": null,
      "outputs": [
        {
          "output_type": "stream",
          "text": [
            "Epoch 1/12\n",
            " 1/23 [>.............................] - ETA: 0s - loss: 0.8391 - accuracy: 0.5455WARNING:tensorflow:Callbacks method `on_train_batch_end` is slow compared to the batch time (batch time: 0.0034s vs `on_train_batch_end` time: 0.0272s). Check your callbacks.\n",
            "23/23 [==============================] - 0s 9ms/step - loss: 0.7594 - accuracy: 0.6660 - val_loss: 0.6878 - val_accuracy: 0.7561\n",
            "Epoch 2/12\n",
            "23/23 [==============================] - 0s 2ms/step - loss: 0.6257 - accuracy: 0.7882 - val_loss: 0.6376 - val_accuracy: 0.7480\n",
            "Epoch 3/12\n",
            "23/23 [==============================] - 0s 2ms/step - loss: 0.5727 - accuracy: 0.7963 - val_loss: 0.6230 - val_accuracy: 0.7154\n",
            "Epoch 4/12\n",
            "23/23 [==============================] - 0s 2ms/step - loss: 0.5448 - accuracy: 0.7984 - val_loss: 0.6186 - val_accuracy: 0.7236\n",
            "Epoch 5/12\n",
            "23/23 [==============================] - 0s 2ms/step - loss: 0.5250 - accuracy: 0.8045 - val_loss: 0.6075 - val_accuracy: 0.7154\n",
            "Epoch 6/12\n",
            "23/23 [==============================] - 0s 2ms/step - loss: 0.5124 - accuracy: 0.8024 - val_loss: 0.6045 - val_accuracy: 0.7236\n",
            "Epoch 7/12\n",
            "23/23 [==============================] - 0s 2ms/step - loss: 0.5010 - accuracy: 0.8024 - val_loss: 0.5955 - val_accuracy: 0.7154\n",
            "Epoch 8/12\n",
            "23/23 [==============================] - 0s 2ms/step - loss: 0.4903 - accuracy: 0.8045 - val_loss: 0.5883 - val_accuracy: 0.7317\n",
            "Epoch 9/12\n",
            "23/23 [==============================] - 0s 2ms/step - loss: 0.4815 - accuracy: 0.8086 - val_loss: 0.5886 - val_accuracy: 0.7236\n",
            "Epoch 10/12\n",
            "23/23 [==============================] - 0s 2ms/step - loss: 0.4752 - accuracy: 0.8106 - val_loss: 0.5815 - val_accuracy: 0.7236\n",
            "Epoch 11/12\n",
            "23/23 [==============================] - 0s 2ms/step - loss: 0.4700 - accuracy: 0.8086 - val_loss: 0.5821 - val_accuracy: 0.7236\n",
            "Epoch 12/12\n",
            "23/23 [==============================] - 0s 2ms/step - loss: 0.4640 - accuracy: 0.8024 - val_loss: 0.5745 - val_accuracy: 0.7154\n",
            "2020-08-18 20:04:48.777597: I tensorflow/stream_executor/platform/default/dso_loader.cc:48] Successfully opened dynamic library libcudart.so.10.1\n",
            "\n",
            "***** TensorBoard Uploader *****\n",
            "\n",
            "This will upload your TensorBoard logs to https://tensorboard.dev/ from\n",
            "the following directory:\n",
            "\n",
            "logs\n",
            "\n",
            "This TensorBoard will be visible to everyone. Do not upload sensitive\n",
            "data.\n",
            "\n",
            "Your use of this service is subject to Google's Terms of Service\n",
            "<https://policies.google.com/terms> and Privacy Policy\n",
            "<https://policies.google.com/privacy>, and TensorBoard.dev's Terms of Service\n",
            "<https://tensorboard.dev/policy/terms/>.\n",
            "\n",
            "This notice will not be shown again while you are logged into the uploader.\n",
            "To log out, run `tensorboard dev auth revoke`.\n",
            "\n",
            "Continue? (yes/NO) yes\n",
            "\n",
            "Please visit this URL to authorize this application: https://accounts.google.com/o/oauth2/auth?response_type=code&client_id=373649185512-8v619h5kft38l4456nm2dj4ubeqsrvh6.apps.googleusercontent.com&redirect_uri=urn%3Aietf%3Awg%3Aoauth%3A2.0%3Aoob&scope=openid+https%3A%2F%2Fwww.googleapis.com%2Fauth%2Fuserinfo.email&state=nhuTSB19vldnTSSneJImwYRkym8cZX&prompt=consent&access_type=offline\n",
            "Enter the authorization code: 4/3QE8NxzZYjr8Znoxvepn6hIFAtVXA5k1vf96Wi9VXEVulAvk_prdcjY\n",
            "\n",
            "Data for the \"graphs\" plugin is now uploaded to TensorBoard.dev! Note that uploaded data is public. If you do not want to upload data for this plugin, use the \"--plugins\" command line argument.\n",
            "Data for the \"histograms\" plugin is now uploaded to TensorBoard.dev! Note that uploaded data is public. If you do not want to upload data for this plugin, use the \"--plugins\" command line argument.\n",
            "Data for the \"hparams\" plugin is now uploaded to TensorBoard.dev! Note that uploaded data is public. If you do not want to upload data for this plugin, use the \"--plugins\" command line argument.\n",
            "Upload started and will continue reading any new data as it's added\n",
            "to the logdir. To stop uploading, press Ctrl-C.\n",
            "\n",
            "View your TensorBoard live at: https://tensorboard.dev/experiment/qvnCJkgSQGeMrhotnUVF4g/\n",
            "\n",
            "\u001b[1m[2020-08-18T20:05:07]\u001b[0m Uploader started.\n",
            "E0818 20:05:09.349461 139998531282816 uploader.py:1101] Attempted to re-upload existing blob.  Skipping.\n",
            "\u001b[1m[2020-08-18T20:05:09]\u001b[0m Total uploaded: 96 scalars, 0 tensors, 1 binary objects (3.7 kB)\n",
            "\u001b[90mTotal skipped: 1 binary objects (5.5 kB)\n",
            "\n"
          ],
          "name": "stdout"
        }
      ]
    },
    {
      "cell_type": "code",
      "metadata": {
        "id": "iWhioJv1LJKR",
        "colab_type": "code",
        "colab": {}
      },
      "source": [
        ""
      ],
      "execution_count": null,
      "outputs": []
    }
  ]
}